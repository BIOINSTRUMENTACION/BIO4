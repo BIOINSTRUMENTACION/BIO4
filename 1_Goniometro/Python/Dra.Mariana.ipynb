{
 "cells": [
  {
   "cell_type": "code",
   "execution_count": null,
   "metadata": {},
   "outputs": [],
   "source": [
    "import serial\n",
    "import time\n",
    "import matplotlib.pyplot as plt\n",
    "import numpy as np\n",
    "import xlrd       # pip install xlrd\n",
    "import xlsxwriter # pip install xlscwriter\n",
    "import cv2                               # pip install pyton-op"
   ]
  },
  {
   "cell_type": "markdown",
   "metadata": {},
   "source": [
    "# times:\n",
    "Lista de tiempos cuando se le avisa a usario que accion hacer\n",
    "# Instrucciones:\n",
    "Diccionario con tiempo e instrucciones a cada segundo\n",
    "# COM\n",
    "Aqui se coloca el COM que se usara\n",
    "# BAUD \n",
    "Velocidad de a la cual se transmiten los datos \n",
    "# STUDYDURATION\n",
    "Tiempo que el estudio durará en segundos\n",
    "# Label:\n",
    "Esta es la etiqueta que se espera, la informacion debe de ser etiquetada en el microcontrolador:\n",
    "Ejemplo\n",
    "```c\n",
    "Serial.print(\"m:\");\n",
    "Serial.printnl(SensorValue);\n",
    "\n",
    "E"
   ]
  },
  {
   "cell_type": "code",
   "execution_count": null,
   "metadata": {},
   "outputs": [],
   "source": [
    "times = [15,25,40,50,65,75,90,100,115]\n",
    "Instrucciones = {\"15\":\"Begin Flexion 1\",\n",
    "                 \"25\":\"End Flexion and waite 15 s\",\n",
    "                 \"40\":\"Begin Extension 1\",\n",
    "                 \"50\":\"End Extension and waite 15 s\",\n",
    "                 \"65\":\"Begin Flexion 2\",\n",
    "                 \"75\":\"End Flexion and waite 15 s\",\n",
    "                 \"90\":\"Begin Extension 2\",\n",
    "                 \"100\":\"End Flexion and waite 15 s, the program will end\",\n",
    "                 \"115\":\"End\"}\n",
    "i = 0\n",
    "### METADATA ###\n",
    "COM   = \"COM7\"\n",
    "BAUD  = 9600\n",
    "angle = []\n",
    "EMG   = []\n",
    "Time  = []\n",
    "Mega = serial.Serial(COM,BAUD)                # Initiate Communication with Node\n",
    "print(\"Initialising Serial Communication\")    # Message\n",
    "time.sleep(5)                                 # Waite 3 seconds for stable connection  \n",
    "print(\"Communication Established\")            # Mesage\n",
    "print(\"Prepare your arm in a resting stage\")  # Message\n",
    "STUDYDURATION = 10                            # Time of Study in seconds\n",
    "PythonTime  = 0                               # Set Python time to 0\n",
    "InitialTime = time.time()                     # Get Time\n",
    "timeout     = InitialTime + STUDYDURATION     # Duration of protocol\n",
    "\n",
    "while PythonTime  < timeout:                  # While Time of protocol is still active\n",
    "    PythonTime = time.time()                  # Get python Time\n",
    "    if  PythonTime >= InitialTime + times[i]: # IF time reaches a change in protocol\n",
    "        print(f\"Time: {times[i]}, {Instrucciones[str(times[i])]}\") # Tell user\n",
    "        i+=1                                                       # Prepare counter for next message\n",
    "    try:\n",
    "        value = Mega.readline()                                    # Read Value\n",
    "        cad   = value.decode()                                     # Decode to Ascii\n",
    "        cad   = cad.strip()                                        # Remove \\n and \\r\n",
    "        position = cad.index(\":\")                                  # Get the index of lable/status separation\n",
    "        label  = cad[:position]                                    # Get label\n",
    "        status = float(cad[position+1:])                           # Get Status\n",
    "        if label  ==\"m\":\n",
    "            EMG.append(status)                                     # Append EMG SINGAL \n",
    "            Time.append(PythonTime-InitialTime)                    # Append time\n",
    "\n",
    "       \n",
    "    except:\n",
    "        print(\"Error Retrieving Data\")\n",
    "        \n",
    "Mega.close()"
   ]
  }
 ],
 "metadata": {
  "kernelspec": {
   "display_name": "Python 3",
   "language": "python",
   "name": "python3"
  },
  "language_info": {
   "codemirror_mode": {
    "name": "ipython",
    "version": 3
   },
   "file_extension": ".py",
   "mimetype": "text/x-python",
   "name": "python",
   "nbconvert_exporter": "python",
   "pygments_lexer": "ipython3",
   "version": "3.7.7"
  }
 },
 "nbformat": 4,
 "nbformat_minor": 4
}
