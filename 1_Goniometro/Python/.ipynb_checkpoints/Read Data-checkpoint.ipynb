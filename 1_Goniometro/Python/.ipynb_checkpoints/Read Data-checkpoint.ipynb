{
 "cells": [
  {
   "cell_type": "code",
   "execution_count": 1,
   "metadata": {},
   "outputs": [],
   "source": [
    "import serial\n",
    "import numpy as np\n",
    "import matplotlib.pyplot as plt\n",
    "import pandas as pd\n"
   ]
  },
  {
   "cell_type": "markdown",
   "metadata": {},
   "source": [
    "# Arduino "
   ]
  },
  {
   "cell_type": "code",
   "execution_count": 2,
   "metadata": {
    "scrolled": true
   },
   "outputs": [],
   "source": [
    "def read_from_arduino(COM=\"COM4\",angle=180,pase=10):\n",
    "    data  =  dict()                                         # Intialize empty dictionary\n",
    "    #angle                                                  # Start angle \n",
    "    #pase                                                   # Set pase for angle capturing\n",
    "    ser =  serial.Serial(COM,baudrate=9600, timeout=50)     # Create serial object to listen to Bus (time is imporant)\n",
    "    angle = angle + pase                                    # Add pase so that wecan substract it at the begining of the program\n",
    "    print(\"Program will end when you reach 0\")              # Tell user how this program works \n",
    "    while 1:                                                # Iterate while True     \n",
    "        arduinoData = ser.readline()                        # Read data \n",
    "        arduinoData = arduinoData.decode().rstrip()         # Decode data \n",
    "        angle =  angle - pase                               # Set angle \n",
    "        data[str(angle)] = arduinoData                      # Save data\n",
    "        print(f\"angle :{angle}, value {arduinoData}\")       # Print Value\n",
    "        if angle == 0:                                      # if angle  is 0\n",
    "            ser.close()                                     # Close buz\n",
    "            break                                           # break \n",
    "    return data\n",
    "        \n",
    "# Note: time is the amount o time that serial waits to recive data, if it does not recive data it returns blank and continues "
   ]
  },
  {
   "cell_type": "markdown",
   "metadata": {},
   "source": [
    "# Data to Excel "
   ]
  },
  {
   "cell_type": "code",
   "execution_count": 3,
   "metadata": {},
   "outputs": [],
   "source": [
    "def save_to_excel(name,data,c1=\"Voltage\",c2=\"Angle\"):\n",
    "    \"\"\" Save data to excel \n",
    "        c1:   name of first column\n",
    "        c2:   name of second column\n",
    "        name: name of file\n",
    "    \"\"\"\n",
    "    \n",
    "    with open(name+\".csv\",\"w\") as handler:         # Open file with context manager\n",
    "        head= c1 + \",\" + c2 + \"\\n\"                 # Set head row\n",
    "        handler.write(head)                        # Write head\n",
    "        \n",
    "        ### Iterate over data and append it ###\n",
    "        for a,v in zip(data.keys(),data.values()): # Iterate over data\n",
    "            row = v + \",\" + a + \"\\n\"               # Set current row\n",
    "            handler.write(row)                     # Write current row \n",
    "    print(f\"file written as {name}.csv \")          # Tell user the data has been saved\n",
    "\n",
    "def read_from_excel(file,c1=\"Voltage\",c2=\"Angle\"):\n",
    "    \"\"\" Read file from excel\"\"\"\n",
    "    data_frame = pd.read_csv(file)\n",
    "    x =   data_frame.loc[:,c1].to_numpy()         # Get x\n",
    "    y =   data_frame.loc[:,c2].to_numpy()         # Get y\n",
    "    \n",
    "    return x,y\n",
    "    \n",
    "\n",
    "def raw_data(data):\n",
    "    ''' Work with Raw data (without saving it to Excel, this method is not recomended)'''\n",
    "    x = []\n",
    "    y = []\n",
    "    for xi,yi in  zip(data.values(),data.keys()):\n",
    "        x.append(float(xi))\n",
    "        y.append(int(yi))\n",
    "    x = np.array(x)\n",
    "    y = np.array(y)\n",
    "    return x,y"
   ]
  },
  {
   "cell_type": "markdown",
   "metadata": {},
   "source": [
    "# L1 and L2 Regularization"
   ]
  },
  {
   "cell_type": "code",
   "execution_count": 4,
   "metadata": {},
   "outputs": [],
   "source": [
    "### L1 + L2 NORM ###\n",
    "def L1_2_Norm(X,y,W,b):\n",
    "    N = len(X)\n",
    "    L1 = 1/N*(np.abs(X.dot(W) - y)).sum()\n",
    "    L2 = 1/N*((X.dot(W) - y)**2).sum()\n",
    "    return  b*L2 + (1-b)*L1\n",
    "\n",
    "def L1_2_Norm_gradient(X,y,W,b):\n",
    "    N = len(X)\n",
    "    L1 = (1/N)*(X.T).dot(np.sign(X.dot(W) - y))\n",
    "    L2 = (2/N)*(X.T).dot(X.dot(W) - y)\n",
    "    return b*L2 + (1-b)*L1\n",
    "\n",
    "def L1_2_Norm_Gradient_descent(X,y,W,a,b,epochs):\n",
    "    \"\"\" X: Matirx of Data\n",
    "        y: Tags\n",
    "        W: Inital weihgts\n",
    "        a: Learning Rate \n",
    "        b: Weight for L1 and L2 norms\n",
    "        epochs: Epochs \n",
    "    \"\"\"\n",
    "    loss=[]\n",
    "    N = len(y)\n",
    "    for i in range(0,epochs):\n",
    "         ### Compute gradient ###\n",
    "        dW = L1_2_Norm_gradient(X,y,W,b)\n",
    "        \n",
    "        ### Gradient Descent ###\n",
    "        W = W - a*dW\n",
    "        \n",
    "        loss.append(a*L1_2_Norm(X,y,W,b))\n",
    "    \n",
    "    y_hat = X.dot(W)\n",
    "    y_mean = y.sum()/N\n",
    "    st = ((y-y_mean)**2).sum()   # Standar deviation  of data\n",
    "    sr = ((y-y_hat)**2 ).sum()   # standard deviation of prediction\n",
    "    r2   = (st-sr)/st            # R2 coefficient\n",
    "    \n",
    "    return W,loss,r2\n",
    "\n",
    "def plot_loss(loss,X,y,W,r2,name=\"L2\"):\n",
    "   \n",
    "    fig,ax = plt.subplots(ncols=2,nrows=1,figsize=(15,7))\n",
    "    \n",
    "    ### PLOT LOSS ###\n",
    "    iterations = list(range(0,len(loss)))\n",
    "    ax[0].plot(iterations,loss,\"b--\",label =\"loss\")\n",
    "    ax[0].legend(loc=\"lower right\")\n",
    "    ax[0].set_xlabel(\"iterations\")\n",
    "    ax[0].set_ylabel(\"loss \")\n",
    "    ax[0].set_title(f\"Linear Regression with {name} Norm loss={loss[-1]:2f}\")\n",
    "    ax[0].grid(\"on\")\n",
    "    \n",
    "    ### PLOT  Data ###\n",
    "    y_hat = X.dot(W)\n",
    "    x = X[:,1]\n",
    "    ax[1].plot(x,y_hat,\"b--\",label =\"prediction\")\n",
    "    ax[1].plot(x,y,\"r*\",label='data')\n",
    "    ax[1].legend(loc=\"lower right\")\n",
    "    ax[1].set_xlabel(\"x\")\n",
    "    ax[1].set_ylabel(\"y\")\n",
    "    ax[1].set_title(f\"Linear Regression with $R^2$={r2:2f}\")\n",
    "    plt.grid(\"on\")\n",
    "    plt.show()"
   ]
  },
  {
   "cell_type": "code",
   "execution_count": 17,
   "metadata": {},
   "outputs": [
    {
     "name": "stdout",
     "output_type": "stream",
     "text": [
      "Program will end when you reach 0\n",
      "angle :180, value 181.39\n",
      "angle :175, value 176.47\n",
      "angle :170, value 171.54\n",
      "angle :165, value 166.62\n",
      "angle :160, value 161.94\n",
      "angle :155, value 156.28\n",
      "angle :150, value 151.36\n",
      "angle :145, value 145.45\n",
      "angle :140, value 140.03\n",
      "angle :135, value 134.62\n",
      "angle :130, value 129.45\n",
      "angle :125, value 124.03\n",
      "angle :120, value 118.86\n",
      "angle :115, value 113.69\n",
      "angle :110, value 108.03\n",
      "angle :105, value 103.35\n",
      "angle :100, value 98.68\n",
      "angle :95, value 93.26\n",
      "angle :90, value 88.58\n",
      "angle :85, value 83.17\n",
      "angle :80, value 78.49\n",
      "angle :75, value 72.33\n",
      "angle :70, value 68.15\n",
      "angle :65, value 62.73\n",
      "angle :60, value 58.55\n",
      "angle :55, value 54.12\n",
      "angle :50, value 49.19\n",
      "angle :45, value 44.52\n",
      "angle :40, value 40.58\n",
      "angle :35, value 35.90\n",
      "angle :30, value 31.47\n",
      "angle :25, value 26.55\n",
      "angle :20, value 20.88\n",
      "angle :15, value 16.45\n",
      "angle :10, value 11.28\n",
      "angle :5, value 7.10\n",
      "angle :0, value 1.68\n"
     ]
    }
   ],
   "source": [
    "data = read_from_arduino(COM=\"COM4\",angle=180,pase=5)  # Interact with Arduino board"
   ]
  },
  {
   "cell_type": "code",
   "execution_count": 18,
   "metadata": {},
   "outputs": [
    {
     "name": "stdout",
     "output_type": "stream",
     "text": [
      "file written as Error_5.csv \n"
     ]
    }
   ],
   "source": [
    "save_to_excel(\"Error_5\",data,c1=\"Voltage\",c2=\"Angle\")        # Save  data to excel"
   ]
  },
  {
   "cell_type": "code",
   "execution_count": 29,
   "metadata": {},
   "outputs": [],
   "source": [
    "x,y = read_from_excel(\"Error_5.csv\",c1=\"Voltage\",c2=\"Angle\") # Read data"
   ]
  },
  {
   "cell_type": "code",
   "execution_count": 9,
   "metadata": {},
   "outputs": [],
   "source": [
    "### Prepare variables for L1 and L2 Norm Gradietn descent ###\n",
    "x0 = np.ones_like(x)\n",
    "X  = np.stack((x0,x)).T\n",
    "y1 = y.reshape(-1,1)"
   ]
  },
  {
   "cell_type": "code",
   "execution_count": 15,
   "metadata": {},
   "outputs": [
    {
     "data": {
      "image/png": "[encoded data removed]",
      "text/plain": [
       "<Figure size 1080x504 with 2 Axes>"
      ]
     },
     "metadata": {
      "needs_background": "light"
     },
     "output_type": "display_data"
    }
   ],
   "source": [
    "W = np.array([[250],[-50]])                                              # Intial Guess For W\n",
    "W, loss,r2 = L1_2_Norm_Gradient_descent(X,y1,W,a=0.05,b=0.5,epochs=1000) # Compute Gradient Descent with L2 Norm\n",
    "plot_loss(loss,X,y,W,r2,name=\"L2\")                                       # Plot loss and predictions "
   ]
  },
  {
   "cell_type": "code",
   "execution_count": 20,
   "metadata": {},
   "outputs": [
    {
     "data": {
      "text/plain": [
       "array([[247.12090794],\n",
       "       [-50.05772339]])"
      ]
     },
     "execution_count": 20,
     "metadata": {},
     "output_type": "execute_result"
    }
   ],
   "source": [
    "W"
   ]
  },
  {
   "cell_type": "markdown",
   "metadata": {},
   "source": [
    "# Find maximum error"
   ]
  },
  {
   "cell_type": "code",
   "execution_count": 39,
   "metadata": {},
   "outputs": [],
   "source": [
    "y,y_hat = read_from_excel(\"Error_5.csv\",c1=\"Voltage\",c2=\"Angle\") # Read data"
   ]
  },
  {
   "cell_type": "code",
   "execution_count": 40,
   "metadata": {},
   "outputs": [],
   "source": [
    "error = []                      # Empty list for error\n",
    "for yi,y_hati in zip(y,y_hat):  # Iterate over y y_hat\n",
    "    e = np.abs(yi-y_hati)       # Find error \n",
    "    error.append(e)             # append Error\n"
   ]
  },
  {
   "cell_type": "code",
   "execution_count": 48,
   "metadata": {},
   "outputs": [
    {
     "name": "stdout",
     "output_type": "stream",
     "text": [
      "Maximo = 2.6700000000000017 at position 21, angel :72.33\n"
     ]
    }
   ],
   "source": [
    "maximo = -np.inf            # Set maximum to - infinity\n",
    "count    = 0                # Set starting position\n",
    "position = 0                # Position of largest error\n",
    "for i in error:             # Iterate over erro\n",
    "    if i > maximo:          # if i > maximo\n",
    "        position = count    # Set position \n",
    "        maximo = i          # Set new maximo\n",
    "    count += 1\n",
    "print(f\"Maximo = {maximo} at position {position}, angel :{y[position]}\") # Print maximum error"
   ]
  },
  {
   "cell_type": "code",
   "execution_count": null,
   "metadata": {},
   "outputs": [],
   "source": []
  }
 ],
 "metadata": {
  "kernelspec": {
   "display_name": "Python 3",
   "language": "python",
   "name": "python3"
  },
  "language_info": {
   "codemirror_mode": {
    "name": "ipython",
    "version": 3
   },
   "file_extension": ".py",
   "mimetype": "text/x-python",
   "name": "python",
   "nbconvert_exporter": "python",
   "pygments_lexer": "ipython3",
   "version": "3.7.7"
  }
 },
 "nbformat": 4,
 "nbformat_minor": 4
}
