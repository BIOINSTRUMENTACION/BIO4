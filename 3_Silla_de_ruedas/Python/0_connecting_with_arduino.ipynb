{
 "cells": [
  {
   "cell_type": "code",
   "execution_count": 1,
   "metadata": {},
   "outputs": [],
   "source": [
    "#### LOZANO GARCIA EDUARDO ALEJNADRO  elozango1600@alumno.ipn.mx\n",
    "#### UPIBI IPN- Mexcio City, MEXICO , BMSIS Visting Scholar Washington D.C., United States \n",
    "#### 11/20/2020\n",
    "\n",
    "import time      # Default library\n",
    "import binascii  # Dfault library \n",
    "import serial    # pip install pyserial"
   ]
  },
  {
   "cell_type": "markdown",
   "metadata": {},
   "source": [
    "# Communication Protocols\n",
    "\n",
    "A communication protocol is a system of rules that allow two or more entities of a communications system to transmit information via any kind of variation of a physical quantity. The protocol defines the rules, syntax, semantics and synchronization of communication and possible error recovery methods. Protocols may be implemented by hardware, software, or a combination of both\n",
    "\n",
    "## Common Communication Protocols:\n",
    "* UART\n",
    "* I2C\n",
    "* SPI\n",
    "\n",
    "## Types of communication:\n",
    "\n",
    "\n",
    "### Serial communication:\n",
    "Serial communication is the process of sending data one bit at a time, sequentially, over a communication channel or computer bus. This is in contrast to parallel communication, where several bits are sent as a whole, on a link with several parallel channels.\n",
    "\n",
    "### Parallel communication:\n",
    "The basic difference between a parallel and a serial communication channel is the number of electrical conductors used at the physical layer to convey bits. Parallel communication implies more than one such conductor. For example, an 8-bit parallel channel will convey eight bits (or a byte) simultaneously, whereas a serial channel would convey those same bits sequentially, one at a time. If both channels operated at the same clock speed, the parallel channel would be eight times faster. A parallel channel may have additional conductors for other signals, such as a clock signal to pace the flow of data, a signal to control the direction of data flow, and handshaking signals.\n",
    "\n",
    "<img src=\"images\\Capture.PNG\" alt=\"Drawing\" style=\"width: 300px;\"/>\n",
    "\n",
    "\n",
    "\n",
    "###  Asynchronous communication\n",
    "asynchronous communication is transmission of data, generally without the use of an external clock signal, where data can be transmitted intermittently rather than in a steady stream. Any timing required to recover data from the communication symbols is encoded within the symbols.\n",
    "\n",
    "The most significant aspect of asynchronous communications is that data is not transmitted at regular intervals, thus making possible variable bit rate, and that the transmitter and receiver clock generators do not have to be exactly synchronized all the time. In asynchronous transmission, data is sent one byte at a time and each byte is preceded by start bit and stop bit.\n",
    "\n",
    "### Synchronous communication\n",
    "Synchronous serial communication describes a serial communication protocol in which \"data is sent in a continuous stream at constant rate.\n",
    "\n",
    "Synchronous communication requires that the clocks in the transmitting and receiving devices are synchronized – running at the same rate – so the receiver can sample the signal at the same time intervals used by the transmitter. No start or stop bits are required. For this reason \"synchronous communication permits more information to be passed over a circuit per unit time.  than asynchronous serial communication. Over time the transmitting and receiving clocks will tend to drift apart, requiring resynchronization.\n",
    "\n",
    "<img src=\"images\\sunchronous_asyncronous.PNG\" alt=\"Drawing\" style=\"width: 500px;\"/>\n",
    "\n",
    "## UART (Universal Asynchronous Receiver/Transmitter)\n",
    "UART stands for Universal Asynchronous Receiver/Transmitter. UART’s main purpose is to transmit and receive serial data.\n",
    "\n",
    "It only requires 3 wires: Tx (Transmiter), Rx (Reciver) and commun ground.\n",
    "\n",
    "<img src=\"images\\connections.PNG\" alt=\"Drawing\" style=\"width: 500px;\"/>\n",
    "\n",
    "UART is:\n",
    "* Serial: The infromation is send bit by bit sequentially\n",
    "* Asyncronous: There is no internal clock\n",
    "\n",
    "If there is no clock, how can UART interpret the data?\n",
    "<br>\n",
    "Before sending the data, UART adds a **START BIT**, a **PARITY BIT**, and a **STOP BIT**\n",
    "\n",
    "\n",
    "<img src=\"images\\singal.png\" alt=\"Drawing\" style=\"width: 500px;\"/>\n",
    "\n",
    "This protocol does not have a clock, but is important that both the receiver and the transmiter are configured at the same **BAUD RATE**. This is, the number of bits per second, the most commoun baud rate is 9600, this is, 9600 bits/second.\n",
    "\n",
    "\n",
    "## Example\n",
    "Lets imagine we want to transmit the character capital \"O\""
   ]
  },
  {
   "cell_type": "code",
   "execution_count": 3,
   "metadata": {},
   "outputs": [
    {
     "name": "stdout",
     "output_type": "stream",
     "text": [
      "Character O, Binary value (8 bits): 0b1001111\n"
     ]
    }
   ],
   "source": [
    "print(\"Character O, Binary value (8 bits):\",bin(int.from_bytes('O'.encode(), 'little')))"
   ]
  },
  {
   "cell_type": "markdown",
   "metadata": {},
   "source": [
    "In order to send this data we need to add a **START** and **END** bit, Keep in mind that the data will be sent from the least singificant bit to the most significant bit (from left to Right).\n",
    "\n",
    "This menas that the data sent will be:\n",
    "\n",
    "1111110 **11110010** 111111\n",
    "\n",
    "<img src=\"images\\O_UART.PNG\" alt=\"Drawing\" style=\"width: 700px;\"/>\n",
    "\n",
    "\n",
    "\n",
    "<img src=\"images\\O_OScilo.PNG\" alt=\"Drawing\" style=\"width: 600px;\"/>"
   ]
  },
  {
   "cell_type": "markdown",
   "metadata": {},
   "source": [
    "## Using UART in order to communicate Python with Arduino\n",
    "We could implement UART from sratch, however, there is a library already built for us called **Pyserial**. In order to establish communication we just need to specify:\n",
    "* **COM PORT:** Port where arduino is connected.\n",
    "* **Baudrate:** Baudrate at which arduino is configured.\n",
    "* **Timeour:**  Time that the communication will wait if data was sent, if data is not sent in the specified interval, the data will be lost.\n",
    "\n",
    "It is important that we use time.sleep(2) in order to wait for the communication to start, once the communication has started, we can start sending the data.\n",
    "\n",
    "Once we have sent all the data, it is important to close the conection, keep in mind that while the connection is opened you will not be able to use the port with other device (this means you will not be able to open the serial monitor at Arduino)."
   ]
  },
  {
   "cell_type": "markdown",
   "metadata": {},
   "source": [
    "### Example \n",
    "With the following code we will turn on and off a led with python. It is important to take in mind that this will not replace the code of arduino, we need to write some code in arduino and some code in python.\n",
    "\n",
    "## Code in arduino\n",
    "\n",
    "``` C\n",
    "// Code For Master Bluetooth Module \n",
    "int LED = 7;                    // Activate built-in LED\n",
    "char dataFrompython;            // Variable for Data recived from python\n",
    "\n",
    "void setup() {\n",
    "  Serial.begin(9600);    // ARDUINO BAUD RATE\n",
    "  pinMode(LED,OUTPUT);   // LED PIN \n",
    "  }\n",
    "  \n",
    "void loop() {\n",
    "  if (Serial.available() > 0){\n",
    "    dataFrompython =  Serial.read();\n",
    "    if (dataFrompython == '1'){\n",
    "       digitalWrite(LED, HIGH);\n",
    "    }\n",
    "    if (dataFrompython == '2'){\n",
    "       digitalWrite(LED, LOW);\n",
    "    }\n",
    "  }\n",
    " \n",
    "}\n",
    "```\n",
    "\n",
    "## Circuit\n",
    "\n",
    "<img src=\"images\\arduino_basics.PNG.png\" alt=\"Drawing\" style=\"width: 300px;\"/>\n"
   ]
  },
  {
   "cell_type": "code",
   "execution_count": 11,
   "metadata": {},
   "outputs": [],
   "source": [
    "COM = \"COM5\"                                   # Select COM\n",
    "b=9600                                         # Select BAUDRATE\n",
    "t=1                                            # Selecet Timeout\n",
    "ser =  serial.Serial(COM,baudrate=b,timeout=t) # Initiate Communication\n",
    "time.sleep(2)                                  # Wait 2 Seconds \n",
    "ser.write(b\"1\")                                # Send 1 to arduino\n",
    "time.sleep(10)                                 # Wait 10 Seconds \n",
    "ser.write(b\"2\")                                # Send 2 to arduino\n",
    "ser.close()                                    # Close connection"
   ]
  }
 ],
 "metadata": {
  "kernelspec": {
   "display_name": "cogs118_env",
   "language": "python",
   "name": "cogs118_env"
  },
  "language_info": {
   "codemirror_mode": {
    "name": "ipython",
    "version": 3
   },
   "file_extension": ".py",
   "mimetype": "text/x-python",
   "name": "python",
   "nbconvert_exporter": "python",
   "pygments_lexer": "ipython3",
   "version": "3.7.7"
  }
 },
 "nbformat": 4,
 "nbformat_minor": 4
}
