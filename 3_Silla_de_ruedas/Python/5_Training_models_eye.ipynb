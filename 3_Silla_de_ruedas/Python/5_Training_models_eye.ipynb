{
 "cells": [
  {
   "cell_type": "code",
   "execution_count": 1,
   "metadata": {},
   "outputs": [
    {
     "name": "stdout",
     "output_type": "stream",
     "text": [
      "Tensorflow Version: 2.3.0\n"
     ]
    }
   ],
   "source": [
    "import tensorflow as tf\n",
    "from tensorflow.keras.preprocessing.image import load_img, img_to_array\n",
    "from tensorflow.keras.models import Sequential, load_model\n",
    "from tensorflow.keras.layers import Dense, Flatten, Conv2D, MaxPooling2D\n",
    "from tensorflow.keras.callbacks import ModelCheckpoint, EarlyStopping\n",
    "import os\n",
    "import numpy as np\n",
    "import pandas as pd\n",
    "import matplotlib.pyplot as plt\n",
    "import cv2 \n",
    "print(\"Tensorflow Version:\",tf.__version__)"
   ]
  },
  {
   "cell_type": "markdown",
   "metadata": {},
   "source": [
    "\n",
    "### INDEX\n",
    "[1.- LOAD DATA USING IMAGE GENREATORS](#1)\n",
    "\n",
    "[2.-Create a CNN From Scracth](#2)\n",
    "\n"
   ]
  },
  {
   "cell_type": "markdown",
   "metadata": {},
   "source": [
    "<a id='1'></a>\n",
    "##  1.- LOAD DATA USING IMAGE GENREATORS"
   ]
  },
  {
   "cell_type": "code",
   "execution_count": 4,
   "metadata": {},
   "outputs": [
    {
     "name": "stdout",
     "output_type": "stream",
     "text": [
      "Found 356 images belonging to 4 classes.\n",
      "Found 87 images belonging to 4 classes.\n"
     ]
    }
   ],
   "source": [
    "### Initiate an instnace of ImagaDataGenerator ###\n",
    "##  More in Data Augmentation: \n",
    "## https://towardsdatascience.com/exploring-image-data-augmentation-with-keras-and-tensorflow-a8162d89b844\n",
    "path = \"Data_set_eye\"                                                                             # Dataset Path\n",
    "###################################### Create Data Generator ##############################################################\n",
    "image_generator = tf.keras.preprocessing.image.ImageDataGenerator(validation_split=0.2,       # Split for Test/Validation\n",
    "                                                                  height_shift_range=0.2,     # Height Shift\n",
    "                                                                  brightness_range=(0.5, 1.), # Brightness\n",
    "                                                                  rescale=0.9,                # Rescale \n",
    "                                                                  )   \n",
    "\n",
    "############################################## TRAINING DATASET ##############################################################\n",
    "train_dataset = image_generator.flow_from_directory(batch_size=32,                        # Batch Size\n",
    "                                                 directory=path,                          # Directory\n",
    "                                                 shuffle=True,                            # Shuffle images\n",
    "                                                 target_size=(100, 100),                  # Resize to 100x100\n",
    "                                                 color_mode=\"rgb\",                        # Set RGB as default\n",
    "                                                 subset=\"training\",                       # Set Subset to Training\n",
    "                                                 class_mode='categorical'                 # Set Data to Categoriacal\n",
    "                                                 )\n",
    "############################################## TESTING DATASET ##############################################################\n",
    "validation_dataset = image_generator.flow_from_directory(batch_size=32,                   # Batch Size\n",
    "                                                 directory=path,                          # Directory\n",
    "                                                 shuffle=True,                            # Shuffle images\n",
    "                                                 target_size=(100, 100),                  # Resize to 100x100\n",
    "                                                 subset=\"validation\",                     # Set Subset to Validation\n",
    "                                                 color_mode=\"rgb\",                         # Set RGB as default\n",
    "                                                 class_mode='categorical')                # Set Data to Categoriacal"
   ]
  },
  {
   "cell_type": "markdown",
   "metadata": {},
   "source": [
    "### 1.1.- Calculate Steps that have to be taken every epoch"
   ]
  },
  {
   "cell_type": "code",
   "execution_count": 5,
   "metadata": {},
   "outputs": [
    {
     "name": "stdout",
     "output_type": "stream",
     "text": [
      "Train steps per epoch: 11\n",
      "Validation steps per epoch: 2\n"
     ]
    }
   ],
   "source": [
    "val_steps = validation_dataset.n // validation_dataset.batch_size  # Steps in an epoch Validation Data\n",
    "train_steps = train_dataset.n // train_dataset.batch_size          # Steps in an epoch for Traninning Data\n",
    "###################################### INFROM THE USER ABOUT THE STEPS #####################################################\n",
    "print(f\"Train steps per epoch: {train_steps}\")                     # Steps in an epoch for Traninning Data\n",
    "print(f\"Validation steps per epoch: {val_steps}\")                  # Steps in an epoch Validation Data"
   ]
  },
  {
   "cell_type": "markdown",
   "metadata": {},
   "source": [
    "### 1.2.- Get tha labels for each class"
   ]
  },
  {
   "cell_type": "code",
   "execution_count": 7,
   "metadata": {},
   "outputs": [
    {
     "name": "stdout",
     "output_type": "stream",
     "text": [
      "['Back', 'Front', 'Left', 'Right']\n"
     ]
    }
   ],
   "source": [
    "#### All the labels are stored in Lables.txt file ######\n",
    "path = \"Data_set_eye/Labels.txt\"              # Path for Label txt file\n",
    "with open(path,\"r\") as handler:           # Open txt file\n",
    "    labels = handler.read().splitlines()  # Create a list based on every new line\n",
    "print(labels)                             # Show the labels\n"
   ]
  },
  {
   "cell_type": "markdown",
   "metadata": {},
   "source": [
    "<br>\n",
    "<br>"
   ]
  },
  {
   "cell_type": "markdown",
   "metadata": {},
   "source": [
    "<a id='2'></a>\n",
    "#  2.-Create a CNN From Scracth"
   ]
  },
  {
   "cell_type": "code",
   "execution_count": 13,
   "metadata": {},
   "outputs": [],
   "source": [
    "def get_new_model(rate=0.5):\n",
    "    \"\"\"\n",
    "    Convolutional Neural Network with Droput\n",
    "    \"\"\"\n",
    "    ############################### NEURAL NETWORK ARCHITECTURE ############################################\n",
    "    model = tf.keras.Sequential()\n",
    "    model.add(tf.keras.Input(shape=((100, 100, 3))))\n",
    "    model.add(tf.keras.layers.Conv2D(filters=16,kernel_size=(3,3),activation=\"relu\",padding=\"same\",name=\"conv_1\"))\n",
    "    model.add(tf.keras.layers.Dropout(rate))\n",
    "    model.add(tf.keras.layers.Conv2D(filters=16,kernel_size=(3,3),activation=\"relu\",padding=\"same\",name=\"conv_2\"))\n",
    "    model.add(tf.keras.layers.Dropout(rate))\n",
    "    model.add(tf.keras.layers.Conv2D(filters=8,kernel_size=(3,3),activation=\"relu\",padding=\"same\",name=\"conv_3\"))\n",
    "    model.add(tf.keras.layers.Dropout(rate))\n",
    "    model.add(tf.keras.layers.MaxPooling2D(pool_size=(8,8),name=\"pool_1\"))\n",
    "    \n",
    "    model.add(tf.keras.layers.Flatten(name=\"flatten\"))\n",
    "    model.add(tf.keras.layers.Dense(units=64,activation=\"relu\",name=\"dense_1\"))\n",
    "    model.add(tf.keras.layers.Dense(units=64,activation=\"relu\",name=\"dense_2\"))\n",
    "    model.add(tf.keras.layers.Dense(units=64,activation=\"relu\",name=\"dense_3\"))\n",
    "    model.add(tf.keras.layers.Dense(units=4,activation=\"softmax\",name=\"dense_4\"))\n",
    "    \n",
    "    ########################### Compilation of CNN ########################################################\n",
    "    model.compile(optimizer='adam',loss='categorical_crossentropy',metrics=['accuracy'])\n",
    "    return model \n",
    "\n",
    "def get_test_accuracy(model,data,steps,**kwargs):\n",
    "    \"\"\"Test model classification accuracy\"\"\"\n",
    "    test_loss, test_acc = model.evaluate_generator(data,steps,**kwargs)\n",
    "    print('accuracy: {acc:0.3f}'.format(acc=test_acc))\n",
    "    \n",
    "\n",
    "def get_checkpoint_best_only():\n",
    "    \"\"\"\n",
    "    - saves only the weights that generate the highest validation (testing) accuracy\n",
    "    \"\"\"\n",
    "    path = r'C:\\Users\\Eduardo\\Documents\\CARRERA\\8vo_semestre\\BIO_4\\Lab\\3_Silla_de_ruedas\\Python\\Weights_eyes\\weights'# path to save model\n",
    "    checkpoint = tf.keras.callbacks.ModelCheckpoint(filepath=path, save_best_only=True,save_weights_only=True,verbose=2)\n",
    "    return checkpoint\n",
    "\n",
    "def get_early_stopping():\n",
    "    \"\"\"\n",
    "    This function should return an EarlyStopping callback that stops training when\n",
    "    the validation (testing) accuracy has not improved in the last 5 epochs.\n",
    "    EarlyStopping callback with the correct 'monitor' and 'patience'\n",
    "    \"\"\"\n",
    "    return tf.keras.callbacks.EarlyStopping(monitor='accuracy',min_delta=0.01,patience=5,mode=\"max\")\n",
    "    \n",
    "    \n",
    "def plot_learning(history):\n",
    "    \"\"\"PLOT LEARNING CUVRVES \"\"\"\n",
    "    figrue, ax = plt.subplots(1,2,figsize=(15,6))                            # Create Figure\n",
    "    ax[0].set_title(\"Loss Vs Epochs\")                                        # Set Title\n",
    "    ax[0].plot(history.history['loss'],label=\" Trainining Loss\")             # Plot Training Loss\n",
    "    ax[0].plot(history.history['val_loss'],label=\"Validation Loss\")          # Plot Validation Loss\n",
    "    ax[0].legend()                                                           # Print Labels in plot\n",
    "\n",
    "    ax[1].set_title(\"Accuracy Vs Epochs\")                                    # Set Title\n",
    "    ax[1].plot(history.history['accuracy'],label=\" Trainining Accurcacy\")    # Plot Training Accuracy\n",
    "    ax[1].plot(history.history['val_accuracy'],label=\"Validation Accurcacy\") # Plot Validation Accuracy\n",
    "    ax[1].legend()                                                           # Print Labels in plot\n",
    "    \n",
    "    plt.show()                                                               # Show plot\n",
    "    ## THERE IS NOTHING TO RETURN  ##"
   ]
  },
  {
   "cell_type": "code",
   "execution_count": 14,
   "metadata": {},
   "outputs": [
    {
     "name": "stdout",
     "output_type": "stream",
     "text": [
      "accuracy: 0.297\n",
      "Model: \"sequential_2\"\n",
      "_________________________________________________________________\n",
      "Layer (type)                 Output Shape              Param #   \n",
      "=================================================================\n",
      "conv_1 (Conv2D)              (None, 100, 100, 16)      448       \n",
      "_________________________________________________________________\n",
      "dropout_6 (Dropout)          (None, 100, 100, 16)      0         \n",
      "_________________________________________________________________\n",
      "conv_2 (Conv2D)              (None, 100, 100, 16)      2320      \n",
      "_________________________________________________________________\n",
      "dropout_7 (Dropout)          (None, 100, 100, 16)      0         \n",
      "_________________________________________________________________\n",
      "conv_3 (Conv2D)              (None, 100, 100, 8)       1160      \n",
      "_________________________________________________________________\n",
      "dropout_8 (Dropout)          (None, 100, 100, 8)       0         \n",
      "_________________________________________________________________\n",
      "pool_1 (MaxPooling2D)        (None, 12, 12, 8)         0         \n",
      "_________________________________________________________________\n",
      "flatten (Flatten)            (None, 1152)              0         \n",
      "_________________________________________________________________\n",
      "dense_1 (Dense)              (None, 64)                73792     \n",
      "_________________________________________________________________\n",
      "dense_2 (Dense)              (None, 64)                4160      \n",
      "_________________________________________________________________\n",
      "dense_3 (Dense)              (None, 64)                4160      \n",
      "_________________________________________________________________\n",
      "dense_4 (Dense)              (None, 4)                 260       \n",
      "=================================================================\n",
      "Total params: 86,300\n",
      "Trainable params: 86,300\n",
      "Non-trainable params: 0\n",
      "_________________________________________________________________\n"
     ]
    }
   ],
   "source": [
    "model = get_new_model()                                # Initiate Model\n",
    "get_test_accuracy(model,validation_dataset,val_steps)  # Test intial Accruacy (without Trainning)\n",
    "model.summary()                                        # Get Model Architecture"
   ]
  },
  {
   "cell_type": "markdown",
   "metadata": {},
   "source": [
    "### 2.1 Train Model"
   ]
  },
  {
   "cell_type": "code",
   "execution_count": 15,
   "metadata": {},
   "outputs": [
    {
     "name": "stdout",
     "output_type": "stream",
     "text": [
      "Epoch 1/40\n",
      "11/11 [==============================] - ETA: 0s - loss: 52.2163 - accuracy: 0.2685\n",
      "Epoch 00001: val_loss improved from inf to 1.51630, saving model to C:\\Users\\Eduardo\\Documents\\CARRERA\\8vo_semestre\\BIO_4\\Lab\\3_Silla_de_ruedas\\Python\\Weights_eyes\\weights\n",
      "11/11 [==============================] - 6s 507ms/step - loss: 52.2163 - accuracy: 0.2685 - val_loss: 1.5163 - val_accuracy: 0.3125\n",
      "Epoch 2/40\n",
      "11/11 [==============================] - ETA: 0s - loss: 6.1779 - accuracy: 0.3241\n",
      "Epoch 00002: val_loss improved from 1.51630 to 1.41352, saving model to C:\\Users\\Eduardo\\Documents\\CARRERA\\8vo_semestre\\BIO_4\\Lab\\3_Silla_de_ruedas\\Python\\Weights_eyes\\weights\n",
      "11/11 [==============================] - 6s 501ms/step - loss: 6.1779 - accuracy: 0.3241 - val_loss: 1.4135 - val_accuracy: 0.2969\n",
      "Epoch 3/40\n",
      "11/11 [==============================] - ETA: 0s - loss: 3.7266 - accuracy: 0.3735\n",
      "Epoch 00003: val_loss improved from 1.41352 to 1.41043, saving model to C:\\Users\\Eduardo\\Documents\\CARRERA\\8vo_semestre\\BIO_4\\Lab\\3_Silla_de_ruedas\\Python\\Weights_eyes\\weights\n",
      "11/11 [==============================] - 5s 493ms/step - loss: 3.7266 - accuracy: 0.3735 - val_loss: 1.4104 - val_accuracy: 0.2344\n",
      "Epoch 4/40\n",
      "11/11 [==============================] - ETA: 0s - loss: 2.7469 - accuracy: 0.4074\n",
      "Epoch 00004: val_loss did not improve from 1.41043\n",
      "11/11 [==============================] - 5s 481ms/step - loss: 2.7469 - accuracy: 0.4074 - val_loss: 1.4168 - val_accuracy: 0.2500\n",
      "Epoch 5/40\n",
      "11/11 [==============================] - ETA: 0s - loss: 1.8810 - accuracy: 0.4568\n",
      "Epoch 00005: val_loss did not improve from 1.41043\n",
      "11/11 [==============================] - 5s 478ms/step - loss: 1.8810 - accuracy: 0.4568 - val_loss: 1.4190 - val_accuracy: 0.1094\n",
      "Epoch 6/40\n",
      "11/11 [==============================] - ETA: 0s - loss: 1.4431 - accuracy: 0.4969\n",
      "Epoch 00006: val_loss did not improve from 1.41043\n",
      "11/11 [==============================] - 6s 518ms/step - loss: 1.4431 - accuracy: 0.4969 - val_loss: 1.4118 - val_accuracy: 0.0938\n",
      "Epoch 7/40\n",
      "11/11 [==============================] - ETA: 0s - loss: 1.1719 - accuracy: 0.5586\n",
      "Epoch 00007: val_loss improved from 1.41043 to 1.40997, saving model to C:\\Users\\Eduardo\\Documents\\CARRERA\\8vo_semestre\\BIO_4\\Lab\\3_Silla_de_ruedas\\Python\\Weights_eyes\\weights\n",
      "11/11 [==============================] - 6s 501ms/step - loss: 1.1719 - accuracy: 0.5586 - val_loss: 1.4100 - val_accuracy: 0.2031\n",
      "Epoch 8/40\n",
      "11/11 [==============================] - ETA: 0s - loss: 0.9913 - accuracy: 0.6512\n",
      "Epoch 00008: val_loss did not improve from 1.40997\n",
      "11/11 [==============================] - 5s 479ms/step - loss: 0.9913 - accuracy: 0.6512 - val_loss: 1.4113 - val_accuracy: 0.1094\n",
      "Epoch 9/40\n",
      "11/11 [==============================] - ETA: 0s - loss: 1.0240 - accuracy: 0.5957\n",
      "Epoch 00009: val_loss improved from 1.40997 to 1.40635, saving model to C:\\Users\\Eduardo\\Documents\\CARRERA\\8vo_semestre\\BIO_4\\Lab\\3_Silla_de_ruedas\\Python\\Weights_eyes\\weights\n",
      "11/11 [==============================] - 6s 513ms/step - loss: 1.0240 - accuracy: 0.5957 - val_loss: 1.4063 - val_accuracy: 0.2188\n",
      "Epoch 10/40\n",
      "11/11 [==============================] - ETA: 0s - loss: 0.9215 - accuracy: 0.6667\n",
      "Epoch 00010: val_loss improved from 1.40635 to 1.38909, saving model to C:\\Users\\Eduardo\\Documents\\CARRERA\\8vo_semestre\\BIO_4\\Lab\\3_Silla_de_ruedas\\Python\\Weights_eyes\\weights\n",
      "11/11 [==============================] - 5s 494ms/step - loss: 0.9215 - accuracy: 0.6667 - val_loss: 1.3891 - val_accuracy: 0.2188\n",
      "Epoch 11/40\n",
      "11/11 [==============================] - ETA: 0s - loss: 1.0276 - accuracy: 0.6019\n",
      "Epoch 00011: val_loss did not improve from 1.38909\n",
      "11/11 [==============================] - 5s 483ms/step - loss: 1.0276 - accuracy: 0.6019 - val_loss: 1.4064 - val_accuracy: 0.1719\n",
      "Epoch 12/40\n",
      "11/11 [==============================] - ETA: 0s - loss: 0.9003 - accuracy: 0.6821\n",
      "Epoch 00012: val_loss did not improve from 1.38909\n",
      "11/11 [==============================] - 6s 521ms/step - loss: 0.9003 - accuracy: 0.6821 - val_loss: 1.3976 - val_accuracy: 0.2188\n",
      "Epoch 13/40\n",
      "11/11 [==============================] - ETA: 0s - loss: 0.7445 - accuracy: 0.7284\n",
      "Epoch 00013: val_loss did not improve from 1.38909\n",
      "11/11 [==============================] - 5s 479ms/step - loss: 0.7445 - accuracy: 0.7284 - val_loss: 1.4044 - val_accuracy: 0.1875\n",
      "Epoch 14/40\n",
      "11/11 [==============================] - ETA: 0s - loss: 0.6461 - accuracy: 0.7438\n",
      "Epoch 00014: val_loss did not improve from 1.38909\n",
      "11/11 [==============================] - 5s 480ms/step - loss: 0.6461 - accuracy: 0.7438 - val_loss: 1.3950 - val_accuracy: 0.3281\n",
      "Epoch 15/40\n",
      "11/11 [==============================] - ETA: 0s - loss: 0.6414 - accuracy: 0.7747\n",
      "Epoch 00015: val_loss improved from 1.38909 to 1.37888, saving model to C:\\Users\\Eduardo\\Documents\\CARRERA\\8vo_semestre\\BIO_4\\Lab\\3_Silla_de_ruedas\\Python\\Weights_eyes\\weights\n",
      "11/11 [==============================] - 6s 501ms/step - loss: 0.6414 - accuracy: 0.7747 - val_loss: 1.3789 - val_accuracy: 0.2812\n",
      "Epoch 16/40\n",
      "11/11 [==============================] - ETA: 0s - loss: 0.6294 - accuracy: 0.7727\n",
      "Epoch 00016: val_loss improved from 1.37888 to 1.37331, saving model to C:\\Users\\Eduardo\\Documents\\CARRERA\\8vo_semestre\\BIO_4\\Lab\\3_Silla_de_ruedas\\Python\\Weights_eyes\\weights\n",
      "11/11 [==============================] - 6s 537ms/step - loss: 0.6294 - accuracy: 0.7727 - val_loss: 1.3733 - val_accuracy: 0.3750\n",
      "Epoch 17/40\n",
      "11/11 [==============================] - ETA: 0s - loss: 0.6543 - accuracy: 0.7438\n",
      "Epoch 00017: val_loss did not improve from 1.37331\n",
      "11/11 [==============================] - 5s 485ms/step - loss: 0.6543 - accuracy: 0.7438 - val_loss: 1.3888 - val_accuracy: 0.2656\n",
      "Epoch 18/40\n",
      "11/11 [==============================] - ETA: 0s - loss: 0.5208 - accuracy: 0.8125\n",
      "Epoch 00018: val_loss did not improve from 1.37331\n",
      "11/11 [==============================] - 6s 511ms/step - loss: 0.5208 - accuracy: 0.8125 - val_loss: 1.4049 - val_accuracy: 0.2188\n",
      "Epoch 19/40\n",
      "11/11 [==============================] - ETA: 0s - loss: 0.5460 - accuracy: 0.8179\n",
      "Epoch 00019: val_loss did not improve from 1.37331\n",
      "11/11 [==============================] - 5s 481ms/step - loss: 0.5460 - accuracy: 0.8179 - val_loss: 1.4157 - val_accuracy: 0.2188\n",
      "Epoch 20/40\n",
      "11/11 [==============================] - ETA: 0s - loss: 0.4654 - accuracy: 0.8352\n",
      "Epoch 00020: val_loss did not improve from 1.37331\n",
      "11/11 [==============================] - 6s 519ms/step - loss: 0.4654 - accuracy: 0.8352 - val_loss: 1.4137 - val_accuracy: 0.2344\n",
      "Epoch 21/40\n",
      "11/11 [==============================] - ETA: 0s - loss: 0.6341 - accuracy: 0.7716\n",
      "Epoch 00021: val_loss did not improve from 1.37331\n",
      "11/11 [==============================] - 6s 504ms/step - loss: 0.6341 - accuracy: 0.7716 - val_loss: 1.4136 - val_accuracy: 0.2344\n",
      "Epoch 22/40\n",
      "11/11 [==============================] - ETA: 0s - loss: 0.6460 - accuracy: 0.7932\n",
      "Epoch 00022: val_loss did not improve from 1.37331\n",
      "11/11 [==============================] - 5s 485ms/step - loss: 0.6460 - accuracy: 0.7932 - val_loss: 1.4204 - val_accuracy: 0.2031\n",
      "Epoch 23/40\n",
      "11/11 [==============================] - ETA: 0s - loss: 0.5769 - accuracy: 0.7716\n",
      "Epoch 00023: val_loss did not improve from 1.37331\n",
      "11/11 [==============================] - 5s 478ms/step - loss: 0.5769 - accuracy: 0.7716 - val_loss: 1.4180 - val_accuracy: 0.2500\n",
      "Epoch 24/40\n",
      "11/11 [==============================] - ETA: 0s - loss: 0.5500 - accuracy: 0.8056\n",
      "Epoch 00024: val_loss did not improve from 1.37331\n",
      "11/11 [==============================] - 5s 473ms/step - loss: 0.5500 - accuracy: 0.8056 - val_loss: 1.3907 - val_accuracy: 0.2188\n",
      "Epoch 25/40\n",
      "11/11 [==============================] - ETA: 0s - loss: 0.4118 - accuracy: 0.8796\n",
      "Epoch 00025: val_loss improved from 1.37331 to 1.36861, saving model to C:\\Users\\Eduardo\\Documents\\CARRERA\\8vo_semestre\\BIO_4\\Lab\\3_Silla_de_ruedas\\Python\\Weights_eyes\\weights\n",
      "11/11 [==============================] - 6s 503ms/step - loss: 0.4118 - accuracy: 0.8796 - val_loss: 1.3686 - val_accuracy: 0.2812\n",
      "Epoch 26/40\n",
      "11/11 [==============================] - ETA: 0s - loss: 0.7840 - accuracy: 0.7469\n",
      "Epoch 00026: val_loss did not improve from 1.36861\n",
      "11/11 [==============================] - 5s 482ms/step - loss: 0.7840 - accuracy: 0.7469 - val_loss: 1.3712 - val_accuracy: 0.2969\n"
     ]
    },
    {
     "name": "stdout",
     "output_type": "stream",
     "text": [
      "Epoch 27/40\n",
      "11/11 [==============================] - ETA: 0s - loss: 0.6310 - accuracy: 0.7840\n",
      "Epoch 00027: val_loss did not improve from 1.36861\n",
      "11/11 [==============================] - 5s 489ms/step - loss: 0.6310 - accuracy: 0.7840 - val_loss: 1.3752 - val_accuracy: 0.3438\n",
      "Epoch 28/40\n",
      "11/11 [==============================] - ETA: 0s - loss: 0.5705 - accuracy: 0.7901\n",
      "Epoch 00028: val_loss did not improve from 1.36861\n",
      "11/11 [==============================] - 5s 486ms/step - loss: 0.5705 - accuracy: 0.7901 - val_loss: 1.3816 - val_accuracy: 0.2969\n",
      "Epoch 29/40\n",
      "11/11 [==============================] - ETA: 0s - loss: 0.4109 - accuracy: 0.8636\n",
      "Epoch 00029: val_loss did not improve from 1.36861\n",
      "11/11 [==============================] - 6s 518ms/step - loss: 0.4109 - accuracy: 0.8636 - val_loss: 1.3861 - val_accuracy: 0.2344\n",
      "Epoch 30/40\n",
      "11/11 [==============================] - ETA: 0s - loss: 0.3043 - accuracy: 0.9043\n",
      "Epoch 00030: val_loss did not improve from 1.36861\n",
      "11/11 [==============================] - 5s 494ms/step - loss: 0.3043 - accuracy: 0.9043 - val_loss: 1.3977 - val_accuracy: 0.2656\n",
      "Epoch 31/40\n",
      "11/11 [==============================] - ETA: 0s - loss: 0.3805 - accuracy: 0.8827\n",
      "Epoch 00031: val_loss did not improve from 1.36861\n",
      "11/11 [==============================] - 5s 497ms/step - loss: 0.3805 - accuracy: 0.8827 - val_loss: 1.3938 - val_accuracy: 0.2344\n",
      "Epoch 32/40\n",
      "11/11 [==============================] - ETA: 0s - loss: 0.2511 - accuracy: 0.9167\n",
      "Epoch 00032: val_loss improved from 1.36861 to 1.36617, saving model to C:\\Users\\Eduardo\\Documents\\CARRERA\\8vo_semestre\\BIO_4\\Lab\\3_Silla_de_ruedas\\Python\\Weights_eyes\\weights\n",
      "11/11 [==============================] - 6s 501ms/step - loss: 0.2511 - accuracy: 0.9167 - val_loss: 1.3662 - val_accuracy: 0.3125\n",
      "Epoch 33/40\n",
      "11/11 [==============================] - ETA: 0s - loss: 0.2487 - accuracy: 0.9290\n",
      "Epoch 00033: val_loss improved from 1.36617 to 1.33853, saving model to C:\\Users\\Eduardo\\Documents\\CARRERA\\8vo_semestre\\BIO_4\\Lab\\3_Silla_de_ruedas\\Python\\Weights_eyes\\weights\n",
      "11/11 [==============================] - 6s 511ms/step - loss: 0.2487 - accuracy: 0.9290 - val_loss: 1.3385 - val_accuracy: 0.2656\n",
      "Epoch 34/40\n",
      "11/11 [==============================] - ETA: 0s - loss: 0.2485 - accuracy: 0.9414\n",
      "Epoch 00034: val_loss improved from 1.33853 to 1.33748, saving model to C:\\Users\\Eduardo\\Documents\\CARRERA\\8vo_semestre\\BIO_4\\Lab\\3_Silla_de_ruedas\\Python\\Weights_eyes\\weights\n",
      "11/11 [==============================] - 6s 516ms/step - loss: 0.2485 - accuracy: 0.9414 - val_loss: 1.3375 - val_accuracy: 0.3281\n",
      "Epoch 35/40\n",
      "11/11 [==============================] - ETA: 0s - loss: 0.2185 - accuracy: 0.9383\n",
      "Epoch 00035: val_loss did not improve from 1.33748\n",
      "11/11 [==============================] - 5s 485ms/step - loss: 0.2185 - accuracy: 0.9383 - val_loss: 1.3535 - val_accuracy: 0.2969\n",
      "Epoch 36/40\n",
      "11/11 [==============================] - ETA: 0s - loss: 0.2433 - accuracy: 0.9167\n",
      "Epoch 00036: val_loss improved from 1.33748 to 1.30500, saving model to C:\\Users\\Eduardo\\Documents\\CARRERA\\8vo_semestre\\BIO_4\\Lab\\3_Silla_de_ruedas\\Python\\Weights_eyes\\weights\n",
      "11/11 [==============================] - 6s 506ms/step - loss: 0.2433 - accuracy: 0.9167 - val_loss: 1.3050 - val_accuracy: 0.4062\n",
      "Epoch 37/40\n",
      "11/11 [==============================] - ETA: 0s - loss: 0.2414 - accuracy: 0.9198\n",
      "Epoch 00037: val_loss did not improve from 1.30500\n",
      "11/11 [==============================] - 5s 493ms/step - loss: 0.2414 - accuracy: 0.9198 - val_loss: 1.3146 - val_accuracy: 0.3281\n",
      "Epoch 38/40\n",
      "11/11 [==============================] - ETA: 0s - loss: 0.2699 - accuracy: 0.9043\n",
      "Epoch 00038: val_loss did not improve from 1.30500\n",
      "11/11 [==============================] - 5s 481ms/step - loss: 0.2699 - accuracy: 0.9043 - val_loss: 1.3489 - val_accuracy: 0.2969\n",
      "Epoch 39/40\n",
      "11/11 [==============================] - ETA: 0s - loss: 0.2233 - accuracy: 0.9290\n",
      "Epoch 00039: val_loss did not improve from 1.30500\n",
      "11/11 [==============================] - 5s 482ms/step - loss: 0.2233 - accuracy: 0.9290 - val_loss: 1.3526 - val_accuracy: 0.2188\n"
     ]
    },
    {
     "data": {
      "image/png": "[encoded data removed]",
      "text/plain": [
       "<Figure size 1080x432 with 2 Axes>"
      ]
     },
     "metadata": {
      "needs_background": "light"
     },
     "output_type": "display_data"
    }
   ],
   "source": [
    "checkpoint_best_only = get_checkpoint_best_only()  # Get best only save\n",
    "early_stopping = get_early_stopping()              # Get Early stopping\n",
    "callbacks = [checkpoint_best_only, early_stopping] # Put callbacks in a list\n",
    "\n",
    "### Train model using the callbacks ##\n",
    "history = model.fit(train_dataset,                            # Data generator for Training\n",
    "                    steps_per_epoch =train_steps,             # Steps in an epoch of Training  Data\n",
    "                    validation_data =  validation_dataset,    # Data Generator for Validation\n",
    "                    validation_steps=val_steps,               # Steps in a epoch of Validation Data\n",
    "                    epochs=40,callbacks=callbacks              # Callbacks\n",
    "                    )\n",
    "\n",
    "plot_learning(history)                                        # Plot learning curves at the end "
   ]
  },
  {
   "cell_type": "code",
   "execution_count": 16,
   "metadata": {},
   "outputs": [
    {
     "name": "stdout",
     "output_type": "stream",
     "text": [
      "Right\n"
     ]
    }
   ],
   "source": [
    "img = cv2.imread('Data_Set/Back/Back112.jpg')    # Get image\n",
    "img = cv2.imread('Data_Set/Right/Right68.jpg')   # Get Right \n",
    "img = cv2.imread('Data_Set/Left/Left59.jpg')     # Left\n",
    "\n",
    "img =  cv2.cvtColor(img, cv2.COLOR_BGR2RGB )         \n",
    "prediction = model.predict(img[np.newaxis,...])  # Make Prediction\n",
    "y_predict = np.argmax(prediction)                # Get Maximum Probability\n",
    "print(labels[y_predict])"
   ]
  },
  {
   "cell_type": "markdown",
   "metadata": {},
   "source": [
    "### 2.2 Test Model in Video "
   ]
  },
  {
   "cell_type": "code",
   "execution_count": 18,
   "metadata": {},
   "outputs": [
    {
     "name": "stderr",
     "output_type": "stream",
     "text": [
      "C:\\Users\\Eduardo\\Documents\\CARRERA\\Udemy\\Deep_Learning_Prerequisites_The_Numpy_Stack_in_Python\\machine_learning_env\\lib\\site-packages\\ipykernel_launcher.py:15: DeprecationWarning: elementwise comparison failed; this will raise an error in the future.\n",
      "  from ipykernel import kernelapp as app\n",
      "C:\\Users\\Eduardo\\Documents\\CARRERA\\Udemy\\Deep_Learning_Prerequisites_The_Numpy_Stack_in_Python\\machine_learning_env\\lib\\site-packages\\ipykernel_launcher.py:19: DeprecationWarning: elementwise comparison failed; this will raise an error in the future.\n"
     ]
    }
   ],
   "source": [
    "## This is just an example to ilustrate how to use Haar Cascades in order to detect objects (LIVE) ##\n",
    "face = cv2.CascadeClassifier('Haarcascade/haarcascade_frontalface_default.xml') # Face Haar Cascade loading\n",
    "eye = cv2.CascadeClassifier('Haarcascade/haarcascade_eye.xml')                  # Eye  Haar Cascade Loading\n",
    "vid = cv2.VideoCapture(0)                                                       # Define a video capture object \n",
    "status = True                                                                   # Initalize status\n",
    "width = 100                                                                     # Width\n",
    "height = 100                                                                    # Height\n",
    "dimensions=(width,height)                                                       # Dimenssions\n",
    "font = cv2.FONT_HERSHEY_SIMPLEX\n",
    "while(status): \n",
    "    status, frame = vid.read()                             # Capture the video frame by frame \n",
    "    frame2 = np.copy(frame)                                # Copy frame\n",
    "    gray = cv2.cvtColor(frame, cv2.COLOR_BGR2GRAY)         # Convert to gray scale\n",
    "    face_info = face.detectMultiScale(gray, 1.3, 5)        # Get face infromation\n",
    "    if face_info  != ():                                   # If face was capture\n",
    "        (x,y,w,h) = face_info[0]                           # unpack information\n",
    "        cv2.rectangle(frame,(x,y),(x+w,y+h),(255,255,0),1) # Draw rectangle\n",
    "        eye_info = eye.detectMultiScale(gray)              # eye info\n",
    "        if  eye_info != (): \n",
    "            (x,y,w,h) = eye_info[0]                        # unpack information\n",
    "            cv2.rectangle(frame,(x,y),(x+w,y+h),(255,0,255),1) \n",
    "            cropped_face_color = frame2[y:y+h, x:x+w]       # Crop face (color)        \n",
    "                           \n",
    "        res = cv2.resize(cropped_face_color,dimensions, interpolation=cv2.INTER_AREA) # Resize\n",
    "        res =  cv2.cvtColor(res, cv2.COLOR_BGR2RGB )         # Convert to RGB\n",
    "        prediction = model.predict(res[np.newaxis,...])        # Make Prediction\n",
    "        y_predict = np.argmax(prediction)                      # Get Maximum Probability\n",
    "        y_prediction_text = labels[y_predict]                  # Get Text of prediction\n",
    "        cv2.putText(frame,y_prediction_text,(20,20), font, 1,(255,255,0),2)\n",
    "    \n",
    "    \n",
    "    cv2.imshow('frame',  frame)                            # Display the resulting frame \n",
    "    wait_key = cv2.waitKey(1) & 0xFF                       # Store Waitkey object\n",
    "    if wait_key  == ord('q'):                              # If q is pressed\n",
    "        break                                              # Break while loop\n",
    "  \n",
    "    \n",
    "\n",
    "vid.release()              # After the loop release the cap object \n",
    "cv2.destroyAllWindows()    # Destroy all the windows "
   ]
  },
  {
   "cell_type": "markdown",
   "metadata": {},
   "source": [
    "<br>\n",
    "<br>"
   ]
  },
  {
   "cell_type": "markdown",
   "metadata": {},
   "source": [
    "<a id='2'></a>\n",
    "#  2.- Use Transfer Learning "
   ]
  },
  {
   "cell_type": "markdown",
   "metadata": {},
   "source": [
    "![image](https://miro.medium.com/max/850/1*_Lg1i7wv1pLpzp2F4MLrvw.png)"
   ]
  },
  {
   "cell_type": "code",
   "execution_count": 49,
   "metadata": {},
   "outputs": [],
   "source": [
    "from keras.applications.vgg16 import VGG16\n",
    "from keras.applications.vgg16 import preprocess_input"
   ]
  },
  {
   "cell_type": "code",
   "execution_count": 69,
   "metadata": {},
   "outputs": [
    {
     "data": {
      "text/plain": [
       "[<tensorflow.python.keras.engine.input_layer.InputLayer at 0x1cb8e217888>,\n",
       " <tensorflow.python.keras.layers.convolutional.Conv2D at 0x1cb8e217d08>,\n",
       " <tensorflow.python.keras.layers.convolutional.Conv2D at 0x1cb8e217748>,\n",
       " <tensorflow.python.keras.layers.pooling.MaxPooling2D at 0x1cb8e1bc948>,\n",
       " <tensorflow.python.keras.layers.convolutional.Conv2D at 0x1cb8e2c2848>,\n",
       " <tensorflow.python.keras.layers.convolutional.Conv2D at 0x1cb8e206ec8>,\n",
       " <tensorflow.python.keras.layers.pooling.MaxPooling2D at 0x1cb8fc35f08>,\n",
       " <tensorflow.python.keras.layers.convolutional.Conv2D at 0x1cb8e2aa8c8>,\n",
       " <tensorflow.python.keras.layers.convolutional.Conv2D at 0x1cb8e2aad88>,\n",
       " <tensorflow.python.keras.layers.convolutional.Conv2D at 0x1cb8fc3a208>,\n",
       " <tensorflow.python.keras.layers.pooling.MaxPooling2D at 0x1cb8e20f708>,\n",
       " <tensorflow.python.keras.layers.convolutional.Conv2D at 0x1cb8fb59248>,\n",
       " <tensorflow.python.keras.layers.convolutional.Conv2D at 0x1cb8fb59e48>,\n",
       " <tensorflow.python.keras.layers.convolutional.Conv2D at 0x1cb8e283f88>,\n",
       " <tensorflow.python.keras.layers.pooling.MaxPooling2D at 0x1cb8e2a1ac8>,\n",
       " <tensorflow.python.keras.layers.convolutional.Conv2D at 0x1cb8e2a6e88>,\n",
       " <tensorflow.python.keras.layers.convolutional.Conv2D at 0x1cb8e245248>,\n",
       " <tensorflow.python.keras.layers.convolutional.Conv2D at 0x1cb8e27d448>,\n",
       " <tensorflow.python.keras.layers.pooling.MaxPooling2D at 0x1cb8fc30d48>]"
      ]
     },
     "execution_count": 69,
     "metadata": {},
     "output_type": "execute_result"
    }
   ],
   "source": [
    "image_size = [100,100,3]               # Add image size we wish to train Data with\n",
    "### Intiate VGG16  ###\n",
    "vgg =  VGG16(input_shape=image_size,   # Input Shape\n",
    "             weights='imagenet',       # Dataset used to train weights\n",
    "             include_top=False         # Do not include Top   \n",
    "            )\n",
    "##### MAKE ALL LAYERS UNTRAINABLE ###\n",
    "maximum = 7\n",
    "i=0\n",
    "for layer in vgg.layers:              # Iterate over layers \n",
    "    if i < maximum:                   # if layer index is less than the one we specified\n",
    "        layer.trainable = False       # Make layer untrianable\n",
    "    i+=1\n",
    "    \n",
    "vgg.layers                             # Print VGG Layers                                                           "
   ]
  },
  {
   "cell_type": "code",
   "execution_count": 75,
   "metadata": {},
   "outputs": [
    {
     "data": {
      "text/plain": [
       "False"
      ]
     },
     "execution_count": 75,
     "metadata": {},
     "output_type": "execute_result"
    }
   ],
   "source": [
    "vgg.layers[6].trainable"
   ]
  },
  {
   "cell_type": "code",
   "execution_count": 78,
   "metadata": {},
   "outputs": [
    {
     "name": "stdout",
     "output_type": "stream",
     "text": [
      "Model: \"functional_5\"\n",
      "_________________________________________________________________\n",
      "Layer (type)                 Output Shape              Param #   \n",
      "=================================================================\n",
      "input_7 (InputLayer)         [(None, 100, 100, 3)]     0         \n",
      "_________________________________________________________________\n",
      "block1_conv1 (Conv2D)        (None, 100, 100, 64)      1792      \n",
      "_________________________________________________________________\n",
      "block1_conv2 (Conv2D)        (None, 100, 100, 64)      36928     \n",
      "_________________________________________________________________\n",
      "block1_pool (MaxPooling2D)   (None, 50, 50, 64)        0         \n",
      "_________________________________________________________________\n",
      "block2_conv1 (Conv2D)        (None, 50, 50, 128)       73856     \n",
      "_________________________________________________________________\n",
      "block2_conv2 (Conv2D)        (None, 50, 50, 128)       147584    \n",
      "_________________________________________________________________\n",
      "block2_pool (MaxPooling2D)   (None, 25, 25, 128)       0         \n",
      "_________________________________________________________________\n",
      "block3_conv1 (Conv2D)        (None, 25, 25, 256)       295168    \n",
      "_________________________________________________________________\n",
      "block3_conv2 (Conv2D)        (None, 25, 25, 256)       590080    \n",
      "_________________________________________________________________\n",
      "block3_conv3 (Conv2D)        (None, 25, 25, 256)       590080    \n",
      "_________________________________________________________________\n",
      "block3_pool (MaxPooling2D)   (None, 12, 12, 256)       0         \n",
      "_________________________________________________________________\n",
      "block4_conv1 (Conv2D)        (None, 12, 12, 512)       1180160   \n",
      "_________________________________________________________________\n",
      "block4_conv2 (Conv2D)        (None, 12, 12, 512)       2359808   \n",
      "_________________________________________________________________\n",
      "block4_conv3 (Conv2D)        (None, 12, 12, 512)       2359808   \n",
      "_________________________________________________________________\n",
      "block4_pool (MaxPooling2D)   (None, 6, 6, 512)         0         \n",
      "_________________________________________________________________\n",
      "block5_conv1 (Conv2D)        (None, 6, 6, 512)         2359808   \n",
      "_________________________________________________________________\n",
      "block5_conv2 (Conv2D)        (None, 6, 6, 512)         2359808   \n",
      "_________________________________________________________________\n",
      "block5_conv3 (Conv2D)        (None, 6, 6, 512)         2359808   \n",
      "_________________________________________________________________\n",
      "block5_pool (MaxPooling2D)   (None, 3, 3, 512)         0         \n",
      "_________________________________________________________________\n",
      "flatten_2 (Flatten)          (None, 4608)              0         \n",
      "_________________________________________________________________\n",
      "dense_2 (Dense)              (None, 4)                 18436     \n",
      "=================================================================\n",
      "Total params: 14,733,124\n",
      "Trainable params: 14,472,964\n",
      "Non-trainable params: 260,160\n",
      "_________________________________________________________________\n"
     ]
    }
   ],
   "source": [
    "x =  Flatten()(vgg.output)\n",
    "prediction = Dense(4,activation=\"softmax\")(x)\n",
    "model2 = tf.keras.models.Model(inputs=vgg.input,outputs=prediction)\n",
    "model2.compile(optimizer='adam',loss='categorical_crossentropy',metrics=['accuracy'])\n",
    "model2.summary()\n",
    "#history = model2.fit(train_dataset,steps_per_epoch=train_steps,epochs=4)"
   ]
  },
  {
   "cell_type": "code",
   "execution_count": 80,
   "metadata": {},
   "outputs": [
    {
     "name": "stdout",
     "output_type": "stream",
     "text": [
      "Epoch 1/10\n",
      "16/16 [==============================] - 142s 9s/step - loss: 1.3862 - accuracy: 0.2626 - val_loss: 1.3860 - val_accuracy: 0.2695\n",
      "Epoch 2/10\n",
      "16/16 [==============================] - 143s 9s/step - loss: 1.3861 - accuracy: 0.2677 - val_loss: 1.3860 - val_accuracy: 0.2695\n",
      "Epoch 3/10\n",
      "16/16 [==============================] - 143s 9s/step - loss: 1.3859 - accuracy: 0.2749 - val_loss: 1.3860 - val_accuracy: 0.2656\n",
      "Epoch 4/10\n",
      "16/16 [==============================] - 143s 9s/step - loss: 1.3858 - accuracy: 0.2687 - val_loss: 1.3858 - val_accuracy: 0.2695\n",
      "Epoch 5/10\n",
      "16/16 [==============================] - 188s 12s/step - loss: 1.3858 - accuracy: 0.2656 - val_loss: 1.3858 - val_accuracy: 0.2656\n",
      "Epoch 6/10\n",
      "16/16 [==============================] - 312s 19s/step - loss: 1.3859 - accuracy: 0.2626 - val_loss: 1.3858 - val_accuracy: 0.2656\n",
      "Epoch 7/10\n",
      "16/16 [==============================] - 296s 18s/step - loss: 1.3858 - accuracy: 0.2646 - val_loss: 1.3858 - val_accuracy: 0.2656\n",
      "Epoch 8/10\n",
      "16/16 [==============================] - 243s 15s/step - loss: 1.3858 - accuracy: 0.2626 - val_loss: 1.3857 - val_accuracy: 0.2656\n",
      "Epoch 9/10\n",
      "16/16 [==============================] - 257s 16s/step - loss: 1.3859 - accuracy: 0.2636 - val_loss: 1.3857 - val_accuracy: 0.2656\n",
      "Epoch 10/10\n",
      "16/16 [==============================] - 242s 15s/step - loss: 1.3857 - accuracy: 0.2677 - val_loss: 1.3856 - val_accuracy: 0.2695\n"
     ]
    },
    {
     "data": {
      "image/png": "[encoded data removed]",
      "text/plain": [
       "<Figure size 1080x432 with 2 Axes>"
      ]
     },
     "metadata": {
      "needs_background": "light"
     },
     "output_type": "display_data"
    }
   ],
   "source": [
    "history = model2.fit(train_dataset,                            # Data generator for Training\n",
    "                    steps_per_epoch =train_steps,             # Steps in an epoch of Training  Data\n",
    "                    validation_data =  validation_dataset,    # Data Generator for Validation\n",
    "                    validation_steps=val_steps,               # Steps in a epoch of Validation Data\n",
    "                    epochs=10)\n",
    "\n",
    "plot_learning(history)          "
   ]
  },
  {
   "cell_type": "code",
   "execution_count": 81,
   "metadata": {},
   "outputs": [
    {
     "name": "stderr",
     "output_type": "stream",
     "text": [
      "C:\\Users\\Eduardo\\Documents\\CARRERA\\Udemy\\Deep_Learning_Prerequisites_The_Numpy_Stack_in_Python\\machine_learning_env\\lib\\site-packages\\ipykernel_launcher.py:17: DeprecationWarning: elementwise comparison failed; this will raise an error in the future.\n"
     ]
    }
   ],
   "source": [
    "## This is just an example to ilustrate how to use Haar Cascades in order to detect objects (LIVE) ##\n",
    "face = cv2.CascadeClassifier('Haarcascade/haarcascade_frontalface_default.xml') # Face Haar Cascade loading\n",
    "eye = cv2.CascadeClassifier('Haarcascade/haarcascade_eye.xml')                  # Eye  Haar Cascade Loading\n",
    "vid = cv2.VideoCapture(0)                                                       # Define a video capture object \n",
    "status = True                                                                   # Initalize status\n",
    "width = 100                                                                     # Width\n",
    "height = 100                                                                    # Height\n",
    "dimensions=(width,height)                                                       # Dimenssions\n",
    "font = cv2.FONT_HERSHEY_SIMPLEX\n",
    "while(status):                                             # Iterate while status is true \n",
    "    status, frame = vid.read()                             # Capture the video frame by frame \n",
    "    gray = cv2.cvtColor(frame, cv2.COLOR_BGR2GRAY)         # Convert to gray scale\n",
    "    face_info = face.detectMultiScale(gray, 1.3, 5)        # Get face infromation\n",
    "    for (x,y,w,h) in face_info:                            # Iterate over this information\n",
    "        cv2.rectangle(frame,(x,y),(x+w,y+h),(255,255,0),1) # Draw rectangle\n",
    "        cropped_face_color = frame[y:y+h, x:x+w]           # Crop face (color) \n",
    "    if face_info  != ():                                   # If face was capture\n",
    "        res = cv2.resize(cropped_face_color,dimensions, interpolation=cv2.INTER_AREA) # Resize\n",
    "        prediction = model2.predict(res[np.newaxis,...])        # Make Prediction\n",
    "        y_predict = np.argmax(prediction)                      # Get Maximum Probability\n",
    "        y_prediction_text = labels[y_predict]                  # Get Text of prediction\n",
    "        cv2.putText(frame,y_prediction_text,(20,20), font, 1,(255,255,0),2)\n",
    "    \n",
    "    \n",
    "    cv2.imshow('frame',  frame)                            # Display the resulting frame \n",
    "    wait_key = cv2.waitKey(1) & 0xFF                       # Store Waitkey object\n",
    "    if wait_key  == ord('q'):                              # If q is pressed\n",
    "        break                                              # Break while loop\n",
    "  \n",
    "    \n",
    "\n",
    "vid.release()              # After the loop release the cap object \n",
    "cv2.destroyAllWindows()    # Destroy all the windows "
   ]
  },
  {
   "cell_type": "code",
   "execution_count": null,
   "metadata": {},
   "outputs": [],
   "source": []
  }
 ],
 "metadata": {
  "kernelspec": {
   "display_name": "machine_learning_env",
   "language": "python",
   "name": "machine_learning_env"
  },
  "language_info": {
   "codemirror_mode": {
    "name": "ipython",
    "version": 3
   },
   "file_extension": ".py",
   "mimetype": "text/x-python",
   "name": "python",
   "nbconvert_exporter": "python",
   "pygments_lexer": "ipython3",
   "version": "3.7.7"
  }
 },
 "nbformat": 4,
 "nbformat_minor": 4
}
