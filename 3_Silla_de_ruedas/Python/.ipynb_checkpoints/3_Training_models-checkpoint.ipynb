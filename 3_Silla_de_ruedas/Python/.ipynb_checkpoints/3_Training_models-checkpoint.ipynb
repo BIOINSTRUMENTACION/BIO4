{
 "cells": [
  {
   "cell_type": "code",
   "execution_count": 1,
   "metadata": {},
   "outputs": [
    {
     "name": "stdout",
     "output_type": "stream",
     "text": [
      "Tensorflow Version: 2.3.0\n"
     ]
    }
   ],
   "source": [
    "import tensorflow as tf\n",
    "from tensorflow.keras.preprocessing.image import load_img, img_to_array\n",
    "from tensorflow.keras.models import Sequential, load_model\n",
    "from tensorflow.keras.layers import Dense, Flatten, Conv2D, MaxPooling2D\n",
    "from tensorflow.keras.callbacks import ModelCheckpoint, EarlyStopping\n",
    "import os\n",
    "import numpy as np\n",
    "import pandas as pd\n",
    "import matplotlib.pyplot as plt\n",
    "import cv2 \n",
    "print(\"Tensorflow Version:\",tf.__version__)"
   ]
  },
  {
   "cell_type": "markdown",
   "metadata": {},
   "source": [
    "### LOAD DATA USING IMAGE GENREATORS"
   ]
  },
  {
   "cell_type": "code",
   "execution_count": 2,
   "metadata": {},
   "outputs": [
    {
     "name": "stdout",
     "output_type": "stream",
     "text": [
      "Found 1039 images belonging to 4 classes.\n",
      "Found 258 images belonging to 4 classes.\n"
     ]
    }
   ],
   "source": [
    "### Initiate an instnace of ImagaDataGenerator ###\n",
    "##  More in Data Augmentation: \n",
    "## https://towardsdatascience.com/exploring-image-data-augmentation-with-keras-and-tensorflow-a8162d89b844\n",
    "path = \"Data_Set\"                                                                             # Dataset Path\n",
    "###################################### Create Data Generator ##############################################################\n",
    "image_generator = tf.keras.preprocessing.image.ImageDataGenerator(validation_split=0.2,       # Split for Test/Validation\n",
    "                                                                  rotation_range=15,          # Random rotation in Degrees\n",
    "                                                                  height_shift_range=0.2,     # Height Shift\n",
    "                                                                  brightness_range=(0.5, 1.), # Brightness\n",
    "                                                                  rescale=0.9,                # Rescale \n",
    "                                                                  )   \n",
    "\n",
    "############################################## TRAINING DATASET ##############################################################\n",
    "train_dataset = image_generator.flow_from_directory(batch_size=64,                        # Batch Size\n",
    "                                                 directory=path,                          # Directory\n",
    "                                                 shuffle=True,                            # Shuffle images\n",
    "                                                 target_size=(100, 100),                  # Resize to 100x100\n",
    "                                                 color_mode=\"rgb\",                        # Set RGB as default\n",
    "                                                 subset=\"training\",                       # Set Subset to Training\n",
    "                                                 class_mode='categorical'                 # Set Data to Categoriacal\n",
    "                                                 )\n",
    "############################################## TESTING DATASET ##############################################################\n",
    "validation_dataset = image_generator.flow_from_directory(batch_size=64,                   # Batch Size\n",
    "                                                 directory=path,                          # Directory\n",
    "                                                 shuffle=True,                            # Shuffle images\n",
    "                                                 target_size=(100, 100),                  # Resize to 100x100\n",
    "                                                 subset=\"validation\",                     # Set Subset to Validation\n",
    "                                                 color_mode=\"rgb\",                         # Set RGB as default\n",
    "                                                 class_mode='categorical')                # Set Data to Categoriacal"
   ]
  },
  {
   "cell_type": "markdown",
   "metadata": {},
   "source": [
    "## Calculate Steps that have to be taken every epoch"
   ]
  },
  {
   "cell_type": "code",
   "execution_count": 3,
   "metadata": {},
   "outputs": [
    {
     "name": "stdout",
     "output_type": "stream",
     "text": [
      "Train steps per epoch: 16\n",
      "Validation steps per epoch: 4\n"
     ]
    }
   ],
   "source": [
    "val_steps = validation_dataset.n // validation_dataset.batch_size  # Steps in an epoch Validation Data\n",
    "train_steps = train_dataset.n // train_dataset.batch_size          # Steps in an epoch for Traninning Data\n",
    "###################################### INFROM THE USER ABOUT THE STEPS #####################################################\n",
    "print(f\"Train steps per epoch: {train_steps}\")                     # Steps in an epoch for Traninning Data\n",
    "print(f\"Validation steps per epoch: {val_steps}\")                  # Steps in an epoch Validation Data"
   ]
  },
  {
   "cell_type": "markdown",
   "metadata": {},
   "source": [
    "## Get tha labels for each class"
   ]
  },
  {
   "cell_type": "code",
   "execution_count": 4,
   "metadata": {},
   "outputs": [
    {
     "name": "stdout",
     "output_type": "stream",
     "text": [
      "['Back,', 'Front,', 'Left,', 'Right']\n"
     ]
    }
   ],
   "source": [
    "#### All the labels are stored in Lables.txt file ######\n",
    "path = \"Data_set/Labels.txt\"              # Path for Label txt file\n",
    "with open(path,\"r\") as handler:           # Open txt file\n",
    "    labels = handler.read().splitlines()  # Create a list based on every new line\n",
    "print(labels)                             # Show the labels\n"
   ]
  },
  {
   "cell_type": "code",
   "execution_count": 5,
   "metadata": {},
   "outputs": [],
   "source": [
    "def get_new_model(rate=0.5):\n",
    "    \"\"\"\n",
    "    Convolutional Neural Network with Droput\n",
    "    \"\"\"\n",
    "    ############################### NEURAL NETWORK ARCHITECTURE ############################################\n",
    "    model = tf.keras.Sequential()\n",
    "    model.add(tf.keras.Input(shape=((100, 100, 3))))\n",
    "    model.add(tf.keras.layers.Conv2D(filters=16,kernel_size=(3,3),activation=\"relu\",padding=\"same\",name=\"conv_1\"))\n",
    "    model.add(tf.keras.layers.Dropout(rate))\n",
    "    model.add(tf.keras.layers.Conv2D(filters=16,kernel_size=(3,3),activation=\"relu\",padding=\"same\",name=\"conv_2\"))\n",
    "    model.add(tf.keras.layers.Dropout(rate))\n",
    "    model.add(tf.keras.layers.Conv2D(filters=8,kernel_size=(3,3),activation=\"relu\",padding=\"same\",name=\"conv_3\"))\n",
    "    model.add(tf.keras.layers.Dropout(rate))\n",
    "    model.add(tf.keras.layers.MaxPooling2D(pool_size=(8,8),name=\"pool_1\"))\n",
    "    \n",
    "    model.add(tf.keras.layers.Flatten(name=\"flatten\"))\n",
    "    model.add(tf.keras.layers.Dense(units=32,activation=\"relu\",name=\"dense_1\"))\n",
    "    model.add(tf.keras.layers.Dense(units=4,activation=\"softmax\",name=\"dense_2\"))\n",
    "    \n",
    "    ########################### Compilation of CNN ########################################################\n",
    "    model.compile(optimizer='adam',loss='categorical_crossentropy',metrics=['accuracy'])\n",
    "    return model \n",
    "\n",
    "def get_test_accuracy(model,data,steps,**kwargs):\n",
    "    \"\"\"Test model classification accuracy\"\"\"\n",
    "    test_loss, test_acc = model.evaluate_generator(data,steps,**kwargs)\n",
    "    print('accuracy: {acc:0.3f}'.format(acc=test_acc))\n",
    "    \n",
    "\n",
    "def get_checkpoint_best_only():\n",
    "    \"\"\"\n",
    "    - saves only the weights that generate the highest validation (testing) accuracy\n",
    "    - saves into a directory called 'checkpoints_best_only' inside the current working directory\n",
    "    - generates a file called 'checkpoints_best_only/checkpoint'\n",
    "    \"\"\"\n",
    "    path = 'weights'# path to save model\n",
    "    checkpoint = tf.keras.callbacks.ModelCheckpoint(filepath=path, save_best_only=True,save_weights_only=True,verbose=2)\n",
    "    return checkpoint\n",
    "\n",
    "def get_early_stopping():\n",
    "    \"\"\"\n",
    "    This function should return an EarlyStopping callback that stops training when\n",
    "    the validation (testing) accuracy has not improved in the last 3 epochs.\n",
    "    EarlyStopping callback with the correct 'monitor' and 'patience'\n",
    "    \"\"\"\n",
    "    return tf.keras.callbacks.EarlyStopping(monitor='accuracy',min_delta=0.01,patience=3,mode=\"max\")\n",
    "    \n",
    "    \n",
    "    "
   ]
  },
  {
   "cell_type": "code",
   "execution_count": 6,
   "metadata": {},
   "outputs": [
    {
     "name": "stdout",
     "output_type": "stream",
     "text": [
      "WARNING:tensorflow:From <ipython-input-5-8a39aca64ce0>:26: Model.evaluate_generator (from tensorflow.python.keras.engine.training) is deprecated and will be removed in a future version.\n",
      "Instructions for updating:\n",
      "Please use Model.evaluate, which supports generators.\n",
      "accuracy: 0.246\n",
      "Model: \"sequential\"\n",
      "_________________________________________________________________\n",
      "Layer (type)                 Output Shape              Param #   \n",
      "=================================================================\n",
      "conv_1 (Conv2D)              (None, 100, 100, 16)      448       \n",
      "_________________________________________________________________\n",
      "dropout (Dropout)            (None, 100, 100, 16)      0         \n",
      "_________________________________________________________________\n",
      "conv_2 (Conv2D)              (None, 100, 100, 16)      2320      \n",
      "_________________________________________________________________\n",
      "dropout_1 (Dropout)          (None, 100, 100, 16)      0         \n",
      "_________________________________________________________________\n",
      "conv_3 (Conv2D)              (None, 100, 100, 8)       1160      \n",
      "_________________________________________________________________\n",
      "dropout_2 (Dropout)          (None, 100, 100, 8)       0         \n",
      "_________________________________________________________________\n",
      "pool_1 (MaxPooling2D)        (None, 12, 12, 8)         0         \n",
      "_________________________________________________________________\n",
      "flatten (Flatten)            (None, 1152)              0         \n",
      "_________________________________________________________________\n",
      "dense_1 (Dense)              (None, 32)                36896     \n",
      "_________________________________________________________________\n",
      "dense_2 (Dense)              (None, 4)                 132       \n",
      "=================================================================\n",
      "Total params: 40,956\n",
      "Trainable params: 40,956\n",
      "Non-trainable params: 0\n",
      "_________________________________________________________________\n"
     ]
    }
   ],
   "source": [
    "model = get_new_model()                                # Initiate Model\n",
    "get_test_accuracy(model,validation_dataset,val_steps)  # Test intial Accruacy (without Trainning)\n",
    "model.summary()                                        # Get Model Architecture"
   ]
  },
  {
   "cell_type": "code",
   "execution_count": 7,
   "metadata": {},
   "outputs": [
    {
     "name": "stdout",
     "output_type": "stream",
     "text": [
      "Epoch 1/2\n",
      "16/16 [==============================] - ETA: 0s - loss: 152.3532 - accuracy: 0.2687\n",
      "Epoch 00001: val_loss improved from inf to 5.30437, saving model to weights\n",
      "16/16 [==============================] - 16s 1s/step - loss: 152.3532 - accuracy: 0.2687 - val_loss: 5.3044 - val_accuracy: 0.2461\n",
      "Epoch 2/2\n",
      "16/16 [==============================] - ETA: 0s - loss: 25.4368 - accuracy: 0.2636\n",
      "Epoch 00002: val_loss improved from 5.30437 to 1.81347, saving model to weights\n",
      "16/16 [==============================] - 18s 1s/step - loss: 25.4368 - accuracy: 0.2636 - val_loss: 1.8135 - val_accuracy: 0.2656\n"
     ]
    }
   ],
   "source": [
    "checkpoint_best_only = get_checkpoint_best_only()  # Get best only save\n",
    "early_stopping = get_early_stopping()              # Get Early stopping\n",
    "callbacks = [checkpoint_best_only, early_stopping] # Put callbacks in a list\n",
    "\n",
    "### Train model using the callbacks ##\n",
    "history = model.fit(train_dataset,steps_per_epoch=train_steps, validation_data =  validation_dataset,validation_steps=val_steps,epochs=40,callbacks=callbacks)"
   ]
  },
  {
   "cell_type": "code",
   "execution_count": 9,
   "metadata": {},
   "outputs": [
    {
     "data": {
      "text/plain": [
       "{'loss': [152.3532257080078, 25.436809539794922],\n",
       " 'accuracy': [0.2687179446220398, 0.2635897397994995],\n",
       " 'val_loss': [5.304368495941162, 1.8134729862213135],\n",
       " 'val_accuracy': [0.24609375, 0.265625]}"
      ]
     },
     "execution_count": 9,
     "metadata": {},
     "output_type": "execute_result"
    }
   ],
   "source": []
  },
  {
   "cell_type": "code",
   "execution_count": 24,
   "metadata": {},
   "outputs": [
    {
     "data": {
      "image/png": "[encoded data removed]",
      "text/plain": [
       "<Figure size 1080x432 with 2 Axes>"
      ]
     },
     "metadata": {
      "needs_background": "light"
     },
     "output_type": "display_data"
    }
   ],
   "source": [
    "\n",
    "\n",
    "### PLOT ACCURACY ###\n",
    "figrue, ax = plt.subplots(1,2,figsize=(15,6))\n",
    "ax[0].set_title(\"Loss Vs Epochs\")\n",
    "ax[0].plot(history.history['loss'],label=\" Trainining Loss\")\n",
    "ax[0].plot(history.history['val_loss'],label=\"Validation Loss\")\n",
    "ax[0].legend()\n",
    "ax[1.set_title(\"Loss Vs Epochs\")\n",
    "ax[0].plot(history.history['loss'],label=\" Trainining Loss\")\n",
    "ax[0].plot(history.history['val_loss'],label=\"Validation Loss\")\n",
    "ax[0].legend()\n",
    "plt.show()\n",
    "\n"
   ]
  },
  {
   "cell_type": "code",
   "execution_count": 31,
   "metadata": {},
   "outputs": [
    {
     "name": "stdout",
     "output_type": "stream",
     "text": [
      "Front,\n"
     ]
    }
   ],
   "source": [
    "img = cv2.imread('Data_Set/Back/Back112.jpg')    # Get image\n",
    "img = cv2.imread('Data_Set/Right/Right68.jpg')   # Get Right \n",
    "img = cv2.imread('Data_Set/Left/Left59.jpg')\n",
    "prediction = model.predict(img[np.newaxis,...])  # Make Prediction\n",
    "y_predict = np.argmax(prediction)                # Get Maximum Probability\n",
    "print(labels[y_predict])"
   ]
  },
  {
   "cell_type": "code",
   "execution_count": 34,
   "metadata": {},
   "outputs": [
    {
     "name": "stderr",
     "output_type": "stream",
     "text": [
      "C:\\Users\\Eduardo\\Documents\\CARRERA\\Udemy\\Deep_Learning_Prerequisites_The_Numpy_Stack_in_Python\\machine_learning_env\\lib\\site-packages\\ipykernel_launcher.py:17: DeprecationWarning: elementwise comparison failed; this will raise an error in the future.\n"
     ]
    }
   ],
   "source": [
    "## This is just an example to ilustrate how to use Haar Cascades in order to detect objects (LIVE) ##\n",
    "face = cv2.CascadeClassifier('Haarcascade/haarcascade_frontalface_default.xml') # Face Haar Cascade loading\n",
    "eye = cv2.CascadeClassifier('Haarcascade/haarcascade_eye.xml')                  # Eye  Haar Cascade Loading\n",
    "vid = cv2.VideoCapture(0)                                                       # Define a video capture object \n",
    "status = True                                                                   # Initalize status\n",
    "width = 100                                                                     # Width\n",
    "height = 100                                                                    # Height\n",
    "dimensions=(width,height)                                                       # Dimenssions\n",
    "font = cv2.FONT_HERSHEY_SIMPLEX\n",
    "while(status):                                             # Iterate while status is true \n",
    "    status, frame = vid.read()                             # Capture the video frame by frame \n",
    "    gray = cv2.cvtColor(frame, cv2.COLOR_BGR2GRAY)         # Convert to gray scale\n",
    "    face_info = face.detectMultiScale(gray, 1.3, 5)        # Get face infromation\n",
    "    for (x,y,w,h) in face_info:                            # Iterate over this information\n",
    "        cv2.rectangle(frame,(x,y),(x+w,y+h),(255,255,0),1) # Draw rectangle\n",
    "        cropped_face_color = frame[y:y+h, x:x+w]           # Crop face (color) \n",
    "    if face_info  != ():                                   # If face was capture\n",
    "        res = cv2.resize(cropped_face_color,dimensions, interpolation=cv2.INTER_AREA) # Resize\n",
    "        res =  cv2.cvtColor(res, cv2.COLOR_BGR2RGB )         # Convert to RGB\n",
    "        prediction = model.predict(res[np.newaxis,...])        # Make Prediction\n",
    "        y_predict = np.argmax(prediction)                      # Get Maximum Probability\n",
    "        y_prediction_text = labels[y_predict]                  # Get Text of prediction\n",
    "        cv2.putText(frame,y_prediction_text,(20,20), font, 1,(255,255,0),2)\n",
    "    \n",
    "    \n",
    "    cv2.imshow('frame',  frame)                            # Display the resulting frame \n",
    "    wait_key = cv2.waitKey(1) & 0xFF                       # Store Waitkey object\n",
    "    if wait_key  == ord('q'):                              # If q is pressed\n",
    "        break                                              # Break while loop\n",
    "  \n",
    "    \n",
    "\n",
    "vid.release()              # After the loop release the cap object \n",
    "cv2.destroyAllWindows()    # Destroy all the windows "
   ]
  },
  {
   "cell_type": "code",
   "execution_count": 71,
   "metadata": {},
   "outputs": [],
   "source": [
    "from keras.applications.vgg16 import VGG16\n",
    "from keras.applications.vgg16 import preprocess_input"
   ]
  },
  {
   "cell_type": "code",
   "execution_count": 83,
   "metadata": {},
   "outputs": [
    {
     "name": "stdout",
     "output_type": "stream",
     "text": [
      "Epoch 1/4\n",
      "8/8 [==============================] - 10s 1s/step - loss: 7.2370 - accuracy: 0.5469\n",
      "Epoch 2/4\n",
      "8/8 [==============================] - 9s 1s/step - loss: 0.6637 - accuracy: 0.9060\n",
      "Epoch 3/4\n",
      "8/8 [==============================] - 9s 1s/step - loss: 0.3315 - accuracy: 0.9573\n",
      "Epoch 4/4\n",
      "8/8 [==============================] - 9s 1s/step - loss: 0.1414 - accuracy: 0.9658\n"
     ]
    }
   ],
   "source": [
    "image_size = [100,100,3]\n",
    "vgg =  VGG16(input_shape=image_size,weights='imagenet',include_top=False)\n",
    "for layer in vgg.layers:\n",
    "    layer.trainable = False\n",
    "    \n",
    "x =  Flatten()(vgg.output)\n",
    "prediction = Dense(4,activation=\"softmax\")(x)\n",
    "model2 = tf.keras.models.Model(inputs=vgg.input,outputs=prediction)\n",
    "model2.compile(optimizer='adam',loss='categorical_crossentropy',metrics=['accuracy'])\n",
    "history = model2.fit(train_dataset,steps_per_epoch=train_steps,epochs=4)"
   ]
  },
  {
   "cell_type": "code",
   "execution_count": 84,
   "metadata": {},
   "outputs": [
    {
     "name": "stderr",
     "output_type": "stream",
     "text": [
      "C:\\Users\\Eduardo\\Documents\\CARRERA\\Udemy\\Deep_Learning_Prerequisites_The_Numpy_Stack_in_Python\\machine_learning_env\\lib\\site-packages\\ipykernel_launcher.py:17: DeprecationWarning: elementwise comparison failed; this will raise an error in the future.\n"
     ]
    }
   ],
   "source": [
    "## This is just an example to ilustrate how to use Haar Cascades in order to detect objects (LIVE) ##\n",
    "face = cv2.CascadeClassifier('Haarcascade/haarcascade_frontalface_default.xml') # Face Haar Cascade loading\n",
    "eye = cv2.CascadeClassifier('Haarcascade/haarcascade_eye.xml')                  # Eye  Haar Cascade Loading\n",
    "vid = cv2.VideoCapture(0)                                                       # Define a video capture object \n",
    "status = True                                                                   # Initalize status\n",
    "width = 100                                                                     # Width\n",
    "height = 100                                                                    # Height\n",
    "dimensions=(width,height)                                                       # Dimenssions\n",
    "font = cv2.FONT_HERSHEY_SIMPLEX\n",
    "while(status):                                             # Iterate while status is true \n",
    "    status, frame = vid.read()                             # Capture the video frame by frame \n",
    "    gray = cv2.cvtColor(frame, cv2.COLOR_BGR2GRAY)         # Convert to gray scale\n",
    "    face_info = face.detectMultiScale(gray, 1.3, 5)        # Get face infromation\n",
    "    for (x,y,w,h) in face_info:                            # Iterate over this information\n",
    "        cv2.rectangle(frame,(x,y),(x+w,y+h),(255,255,0),1) # Draw rectangle\n",
    "        cropped_face_color = frame[y:y+h, x:x+w]           # Crop face (color) \n",
    "    if face_info  != ():                                   # If face was capture\n",
    "        res = cv2.resize(cropped_face_color,dimensions, interpolation=cv2.INTER_AREA) # Resize\n",
    "        prediction = model2.predict(res[np.newaxis,...])        # Make Prediction\n",
    "        y_predict = np.argmax(prediction)                      # Get Maximum Probability\n",
    "        y_prediction_text = labels[y_predict]                  # Get Text of prediction\n",
    "        cv2.putText(frame,y_prediction_text,(20,20), font, 1,(255,255,0),2)\n",
    "    \n",
    "    \n",
    "    cv2.imshow('frame',  frame)                            # Display the resulting frame \n",
    "    wait_key = cv2.waitKey(1) & 0xFF                       # Store Waitkey object\n",
    "    if wait_key  == ord('q'):                              # If q is pressed\n",
    "        break                                              # Break while loop\n",
    "  \n",
    "    \n",
    "\n",
    "vid.release()              # After the loop release the cap object \n",
    "cv2.destroyAllWindows()    # Destroy all the windows "
   ]
  },
  {
   "cell_type": "code",
   "execution_count": null,
   "metadata": {},
   "outputs": [],
   "source": []
  }
 ],
 "metadata": {
  "kernelspec": {
   "display_name": "machine_learning_env",
   "language": "python",
   "name": "machine_learning_env"
  },
  "language_info": {
   "codemirror_mode": {
    "name": "ipython",
    "version": 3
   },
   "file_extension": ".py",
   "mimetype": "text/x-python",
   "name": "python",
   "nbconvert_exporter": "python",
   "pygments_lexer": "ipython3",
   "version": "3.7.7"
  }
 },
 "nbformat": 4,
 "nbformat_minor": 4
}
