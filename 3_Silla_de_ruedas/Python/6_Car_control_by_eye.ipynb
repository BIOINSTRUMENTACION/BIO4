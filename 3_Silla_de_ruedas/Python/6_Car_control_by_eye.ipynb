{
 "cells": [
  {
   "cell_type": "code",
   "execution_count": 3,
   "metadata": {},
   "outputs": [],
   "source": [
    "import cv2\n",
    "import serial \n",
    "import time \n",
    "import numpy as np\n",
    "import matplotlib.pyplot as plt\n",
    "import os"
   ]
  },
  {
   "cell_type": "markdown",
   "metadata": {},
   "source": [
    "## Create function"
   ]
  },
  {
   "cell_type": "code",
   "execution_count": 4,
   "metadata": {},
   "outputs": [],
   "source": [
    "def Arduino_Car_Controll_w_eye(COM,b,t,serial_status):\n",
    "    if serial_status:\n",
    "        ser =  serial.Serial(COM,baudrate=b,timeout=t) # Initiate Communication\n",
    "        time.sleep(2)                                  # Wait 2 Seconds so that communication load correctly\n",
    "\n",
    "    ## This is just an example to ilustrate how to use Haar Cascades in order to detect objects (LIVE) ##\n",
    "    face = cv2.CascadeClassifier('Haarcascade/haarcascade_frontalface_default.xml') # Face Haar Cascade loading\n",
    "    eye = cv2.CascadeClassifier('Haarcascade/haarcascade_eye.xml')                  # Eye  Haar Cascade Loading\n",
    "    path = \"Data_set_eye\"                                                           # Path to Store Photos\n",
    "    frame_id = 0                                                                    # Frame Id\n",
    "    vid = cv2.VideoCapture(0)                                                       # Define a video capture object \n",
    "    status = True                                                                   # Initalize status\n",
    "    width = 100\n",
    "    height = 100\n",
    "    dimensions=(width,height)\n",
    "    font = cv2.FONT_HERSHEY_SIMPLEX\n",
    "    while(status): \n",
    "        status, frame = vid.read()                             # Capture the video frame by frame \n",
    "        frame2 = np.copy(frame)                                # Copy frame\n",
    "        gray = cv2.cvtColor(frame, cv2.COLOR_BGR2GRAY)         # Convert to gray scale\n",
    "        face_info = face.detectMultiScale(gray, 1.3, 10)        # Get face infromation\n",
    "        if face_info  != ():                                   # If face was capture\n",
    "            (x,y,w,h) = face_info[0]                           # unpack information\n",
    "            cv2.rectangle(frame,(x,y),(x+w,y+h),(255,255,0),1) # Draw rectangle\n",
    "            cropped_face = gray[y:y+h, x:x+w]                  # Crop face (color)   \n",
    "            eye_info = eye.detectMultiScale(cropped_face,1.3,20)      # eye info\n",
    "\n",
    "            if  eye_info != (): \n",
    "                for (xe,ye,we,he)  in eye_info:\n",
    "                    xn =x+xe\n",
    "                    yn =y+ye\n",
    "                    cv2.rectangle(frame,(xn,yn),(xn+we,yn+he),(255,0,255),1) \n",
    "\n",
    "            if eye_info == ():\n",
    "                 command = \"Stop\"\n",
    "                 if serial_status:\n",
    "                     ser.write(b\"0\")                                # Send 1 to arduino\n",
    "                \n",
    "\n",
    "            elif  eye_info.__len__() == 2:\n",
    "                command = \"Forward\"\n",
    "                if serial_status:\n",
    "                    ser.write(b\"3\")                                # Send 1 to arduino\n",
    "\n",
    "            elif eye_info.__len__() == 1:\n",
    "                resta  = (x - xe)/x\n",
    "                if resta < 0.7:\n",
    "                    command = \"Left\"\n",
    "                    if serial_status:\n",
    "                        ser.write(b\"1\")    \n",
    "\n",
    "                elif resta > 0.8:\n",
    "                    command = \"Right\"\n",
    "                    if serial_status:\n",
    "                        ser.write(b\"2\")   \n",
    "\n",
    "        elif face_info  == ():  \n",
    "             command = \"Stop\"\n",
    "             if  serial_status:\n",
    "                 ser.write(b\"0\")   \n",
    "\n",
    "        cv2.putText(frame,command,(20,20), font, 1,(255,255,0),2) \n",
    "        cv2.imshow('frame',  frame)                            # Display the resulting frame \n",
    "        wait_key = cv2.waitKey(1) & 0xFF                       # StQQore Waitkey object\n",
    "        if wait_key  == ord('q'):                              # If q is pressed\n",
    "            break                                              # Break while loop\n",
    "\n",
    "\n",
    "\n",
    "    vid.release()              # After the loop release the cap object \n",
    "    cv2.destroyAllWindows()    # Destroy all the windows \n",
    "    if serial_status:\n",
    "        ser.close()                # Close connection with Arduino "
   ]
  },
  {
   "cell_type": "markdown",
   "metadata": {},
   "source": [
    "## Use Function"
   ]
  },
  {
   "cell_type": "code",
   "execution_count": 5,
   "metadata": {},
   "outputs": [
    {
     "name": "stderr",
     "output_type": "stream",
     "text": [
      "c:\\users\\eduardo\\appdata\\local\\programs\\python\\python37\\lib\\site-packages\\ipykernel_launcher.py:22: DeprecationWarning: elementwise comparison failed; this will raise an error in the future.\n",
      "c:\\users\\eduardo\\appdata\\local\\programs\\python\\python37\\lib\\site-packages\\ipykernel_launcher.py:28: DeprecationWarning: elementwise comparison failed; this will raise an error in the future.\n",
      "c:\\users\\eduardo\\appdata\\local\\programs\\python\\python37\\lib\\site-packages\\ipykernel_launcher.py:34: DeprecationWarning: elementwise comparison failed; this will raise an error in the future.\n"
     ]
    }
   ],
   "source": [
    "COM = \"COM5\"                                       # Select COM\n",
    "b=9600                                             # Select BAUDRATE\n",
    "t=1                                                # Selecet Timeout\n",
    "serial_status = False                              # Activate arduino \n",
    "Arduino_Car_Controll_w_eye(COM,b,t,serial_status)  # Call function"
   ]
  },
  {
   "cell_type": "code",
   "execution_count": null,
   "metadata": {},
   "outputs": [],
   "source": [
    "Q"
   ]
  }
 ],
 "metadata": {
  "kernelspec": {
   "display_name": "Python 3",
   "language": "python",
   "name": "python3"
  },
  "language_info": {
   "codemirror_mode": {
    "name": "ipython",
    "version": 3
   },
   "file_extension": ".py",
   "mimetype": "text/x-python",
   "name": "python",
   "nbconvert_exporter": "python",
   "pygments_lexer": "ipython3",
   "version": "3.7.7"
  }
 },
 "nbformat": 4,
 "nbformat_minor": 4
}
