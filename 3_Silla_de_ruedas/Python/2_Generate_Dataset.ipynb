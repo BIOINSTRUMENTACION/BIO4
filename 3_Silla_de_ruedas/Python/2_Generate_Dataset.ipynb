{
 "cells": [
  {
   "cell_type": "code",
   "execution_count": 1,
   "metadata": {},
   "outputs": [],
   "source": [
    "import cv2\n",
    "import numpy as np\n",
    "import matplotlib.pyplot as plt\n",
    "import os"
   ]
  },
  {
   "cell_type": "code",
   "execution_count": 6,
   "metadata": {},
   "outputs": [],
   "source": [
    "## This is just an example to ilustrate how to use Haar Cascades in order to detect objects (LIVE) ##\n",
    "face = cv2.CascadeClassifier('Haarcascade/haarcascade_frontalface_default.xml') # Face Haar Cascade loading\n",
    "eye = cv2.CascadeClassifier('Haarcascade/haarcascade_eye.xml')                  # Eye  Haar Cascade Loading\n",
    "path = \"Bouding_box\"                                                            # Path to Store Photos\n",
    "frame_id = 0                                                                    # Frame Id\n",
    "vid = cv2.VideoCapture(0)                                                       # Define a video capture object \n",
    "status = True                                                                   # Initalize status\n",
    "width = 100\n",
    "height = 100\n",
    "dimensions=(width,height)\n",
    "while(status): \n",
    "    status, frame = vid.read()                             # Capture the video frame by frame \n",
    "    gray = cv2.cvtColor(frame, cv2.COLOR_BGR2GRAY)         # Convert to gray scale\n",
    "    face_info = face.detectMultiScale(gray, 1.3, 5)        # Get face infromation\n",
    "    for (x,y,w,h) in face_info:                            # Iterate over this information\n",
    "        cv2.rectangle(frame,(x,y),(x+w,y+h),(255,255,0),1) # Draw rectangle\n",
    "        cropped_face_color = frame[y:y+h, x:x+w]           # Crop face (color) \n",
    "     \n",
    "    cv2.imshow('frame',  frame)                            # Display the resulting frame \n",
    "    wait_key = cv2.waitKey(1) & 0xFF                       # Store Waitkey object\n",
    " \n",
    "\n",
    "    \n",
    "    ################################ BACK #######################################\n",
    "    if  wait_key  == ord(\"x\"):                    # If a is pressed\n",
    "        path = \"Back\"                             # Path for Back Directory\n",
    "        name = path +str(frame_id)+'.jpg'         # Set name \n",
    "        name = \"Data_Set\\\\\" + path + \"\\\\\" + name  # Add path\n",
    "        res = cv2.resize(cropped_face_color,dimensions, interpolation=cv2.INTER_AREA) # Resize\n",
    "        cv2.imwrite(name, res)                    # Set  photo\n",
    "        frame_id += 1                             # Increment frame id\n",
    "        \n",
    "  \n",
    "     ################################ FRONT #######################################\n",
    "    elif  wait_key  == ord(\"w\"):                  # If a is pressed\n",
    "        path = \"Front\"                            # Path for Front Directory\n",
    "        name = path +str(frame_id)+'.jpg'         # Set name \n",
    "        name = \"Data_Set\\\\\" + path + \"\\\\\" + name  # Add path\n",
    "        res = cv2.resize(cropped_face_color,dimensions, interpolation=cv2.INTER_AREA) # Resize\n",
    "        cv2.imwrite(name, res)                    # Set  photo\n",
    "        frame_id += 1                             # Increment frame id\n",
    "         \n",
    "    ################################ LEFT  #######################################\n",
    "    elif  wait_key  == ord(\"a\"):                  # If a is pressed\n",
    "        path =  \"Left\"                            # Path for Left Directory\n",
    "        name = path +str(frame_id)+'.jpg'         # Set name \n",
    "        name = \"Data_Set\\\\\" + path + \"\\\\\" + name  # Add path\n",
    "        res = cv2.resize(cropped_face_color,dimensions, interpolation=cv2.INTER_AREA) # Resize\n",
    "        cv2.imwrite(name, res)                    # Set  photo\n",
    "        frame_id += 1                             # Increment frame id\n",
    "    \n",
    "    ################################ RIGHT #######################################\n",
    "    elif  wait_key  == ord(\"d\"):                # If a is pressed\n",
    "        path =  \"Right\"                           # Path for Right Directory\n",
    "        name = path +str(frame_id)+'.jpg'         # Set name \n",
    "        name = \"Data_Set\\\\\" + path + \"\\\\\" + name  # Add path\n",
    "        res = cv2.resize(cropped_face_color,dimensions, interpolation=cv2.INTER_AREA) # Resize\n",
    "        cv2.imwrite(name, res)                    # Set  photo\n",
    "        frame_id += 1                             # Increment frame id\n",
    "        \n",
    "    ################################ STOP #######################################\n",
    "    elif  wait_key  == ord(\"s\"):                  # If a is pressed\n",
    "        path =  \"Stop\"                            # Path for Stop Directory\n",
    "        name = path +str(frame_id)+'.jpg'         # Set name \n",
    "        name = \"Data_Set\\\\\" + path + \"\\\\\" + name  # Add path\n",
    "        res = cv2.resize(cropped_face_color,dimensions, interpolation=cv2.INTER_AREA) # Resize\n",
    "        cv2.imwrite(name, res)                    # Set  photo\n",
    "        frame_id += 1                             # Increment frame id\n",
    "\n",
    "    \n",
    "    elif wait_key  == ord('q'):            # If q is pressed\n",
    "        break                              # Break while loop\n",
    "  \n",
    "    \n",
    "\n",
    "vid.release()              # After the loop release the cap object \n",
    "cv2.destroyAllWindows()    # Destroy all the windows "
   ]
  },
  {
   "cell_type": "code",
   "execution_count": null,
   "metadata": {},
   "outputs": [],
   "source": [
    " "
   ]
  },
  {
   "cell_type": "code",
   "execution_count": null,
   "metadata": {},
   "outputs": [],
   "source": []
  }
 ],
 "metadata": {
  "kernelspec": {
   "display_name": "Python 3",
   "language": "python",
   "name": "python3"
  },
  "language_info": {
   "codemirror_mode": {
    "name": "ipython",
    "version": 3
   },
   "file_extension": ".py",
   "mimetype": "text/x-python",
   "name": "python",
   "nbconvert_exporter": "python",
   "pygments_lexer": "ipython3",
   "version": "3.7.7"
  }
 },
 "nbformat": 4,
 "nbformat_minor": 4
}
